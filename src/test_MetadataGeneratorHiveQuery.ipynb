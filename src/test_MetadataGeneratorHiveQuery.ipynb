{
 "cells": [
  {
   "cell_type": "markdown",
   "id": "4cdbb54b-5f2e-40e1-a959-feef449e653b",
   "metadata": {},
   "source": [
    "# MetadataGenerator (Hive Queries)\n",
    "\n",
    "This notebook demonstrates how MetadataGeneratorHiveQuery generate metadata from SQL files.\n",
    "The following use cases are covered:\n",
    "* Simmple SQL\n",
    "* Case statement\n",
    "* Multiple case statements\n",
    "* Temporary tables\n",
    "* Sub-queries\n",
    "* Various Columns with functions\n",
    "\n",
    "Also, this notebook demonstrate how it reformates SQL query."
   ]
  },
  {
   "cell_type": "code",
   "execution_count": 1,
   "id": "ea84aa3c-1818-4a72-b112-7da9e56b4462",
   "metadata": {},
   "outputs": [],
   "source": [
    "from MetadataGeneratorHiveQuery import generate_metadata_from_hive_query"
   ]
  },
  {
   "cell_type": "code",
   "execution_count": 2,
   "id": "0a2d70eb-abdf-4e5e-b878-b11e8928b01a",
   "metadata": {},
   "outputs": [],
   "source": [
    "idx_query = 0"
   ]
  },
  {
   "cell_type": "markdown",
   "id": "631cf951-b140-4e46-9a86-f6e857d369c4",
   "metadata": {},
   "source": [
    "# Use Case 1 (simple)\n",
    "\n",
    "This is the simplest SQL query. The query pull columns from source table without any transformation."
   ]
  },
  {
   "cell_type": "code",
   "execution_count": 38,
   "id": "bc73c1c8-54a2-453d-8506-0ab106e7581b",
   "metadata": {},
   "outputs": [],
   "source": [
    "file_path = '../data/sample.sql'"
   ]
  },
  {
   "cell_type": "code",
   "execution_count": 39,
   "id": "146e56e7-7e35-411b-9522-bb0b6e21c549",
   "metadata": {},
   "outputs": [],
   "source": [
    "result = generate_metadata_from_hive_query(\n",
    "    file_path = file_path,\n",
    "    idx_query = idx_query\n",
    ")"
   ]
  },
  {
   "cell_type": "code",
   "execution_count": 14,
   "id": "ba4421ec-a5da-4984-890b-fc7ffd00d05b",
   "metadata": {},
   "outputs": [
    {
     "name": "stdout",
     "output_type": "stream",
     "text": [
      "CREATE TABLE schema.table AS\n",
      "SELECT col1,\n",
      "       col2\n",
      "FROM schema_source.table_source;\n"
     ]
    }
   ],
   "source": [
    "print(result[idx_query]['query'])"
   ]
  },
  {
   "cell_type": "code",
   "execution_count": 15,
   "id": "91b23a3b-a126-4779-bc19-b08549363761",
   "metadata": {},
   "outputs": [
    {
     "name": "stdout",
     "output_type": "stream",
     "text": [
      "{'token': 'create', 'type': 'table', 'value': 'schema.table', 'metadta': {'schema_name': 'schema', 'table_name': 'table', 'table_alias': None}}\n",
      "{'token': 'select', 'type': 'column', 'value': 'col1', 'metadata': {'column_name': 'col1'}}\n",
      "{'token': 'select', 'type': 'column', 'value': 'col2', 'metadata': {'column_name': 'col2'}}\n",
      "{'token': 'FROM', 'type': 'table', 'value': 'schema_source.table_source', 'metadata': {'schema_name': 'schema_source', 'table_name': 'table_source', 'table_alias': None}}\n"
     ]
    }
   ],
   "source": [
    "for item in result[idx_query]['metadata_query']:\n",
    "    print(item)"
   ]
  },
  {
   "cell_type": "markdown",
   "id": "0a7fcf08-7855-437a-99b8-a65ea59a1403",
   "metadata": {},
   "source": [
    "# Use Case 2 (CASE)\n",
    "\n",
    "This query involves single non-nested Case statement."
   ]
  },
  {
   "cell_type": "code",
   "execution_count": 41,
   "id": "810ac536-8cd6-4bb9-9f2d-ed5232dc2a19",
   "metadata": {},
   "outputs": [],
   "source": [
    "file_path = '../data/sample_case.sql'"
   ]
  },
  {
   "cell_type": "code",
   "execution_count": 42,
   "id": "e5983987-bb2a-48cf-b27d-b0e7ed271513",
   "metadata": {},
   "outputs": [],
   "source": [
    "result = generate_metadata_from_hive_query(\n",
    "    file_path = file_path,\n",
    "    idx_query = idx_query\n",
    ")"
   ]
  },
  {
   "cell_type": "code",
   "execution_count": 43,
   "id": "17c5c0d8-54d3-4d01-8182-4249dc931f56",
   "metadata": {},
   "outputs": [
    {
     "name": "stdout",
     "output_type": "stream",
     "text": [
      "CREATE TABLE schema.table AS\n",
      "SELECT CASE\n",
      "           WHEN a.col2 = 15\n",
      "                AND a.col3 < a.col1 THEN 1\n",
      "           ELSE NULL\n",
      "       END AS col2_ind\n",
      "FROM schema_name.table_name_case AS a;\n"
     ]
    }
   ],
   "source": [
    "print(result[idx_query]['query'])"
   ]
  },
  {
   "cell_type": "code",
   "execution_count": 44,
   "id": "f4574abc-fe57-4c29-bdb5-94360ab07ca3",
   "metadata": {},
   "outputs": [
    {
     "name": "stdout",
     "output_type": "stream",
     "text": [
      "{'token': 'create', 'type': 'table', 'value': 'schema.table', 'metadta': {'schema_name': 'schema', 'table_name': 'table', 'table_alias': None}}\n",
      "{'token': 'select', 'type': 'case', 'is_nested': False, 'metadta': [{'when': 'a.col2 = 15'}, {'when': 'a.col3 < a.col1'}, {'then': '1'}, {'else': 'Null'}, {'column_name': 'col2_ind'}]}\n",
      "{'token': 'FROM', 'type': 'table', 'value': 'schema_name.table_name_case as a', 'metadata': {'schema_name': 'schema_name', 'table_name': 'table_name_case', 'table_alias': 'a'}}\n"
     ]
    }
   ],
   "source": [
    "for item in result[idx_query]['metadata_query']:\n",
    "    print(item)"
   ]
  },
  {
   "cell_type": "markdown",
   "id": "10611cd0-1753-4ec1-aa3a-00499f05cbf9",
   "metadata": {},
   "source": [
    "# Use Case 3 (multiple CASES)\n",
    "\n",
    "This query involves a nested Case statement."
   ]
  },
  {
   "cell_type": "code",
   "execution_count": 45,
   "id": "29aba9dc-e76f-462a-ba31-587b293c1451",
   "metadata": {},
   "outputs": [],
   "source": [
    "file_path = '../data/sample_cases.sql'"
   ]
  },
  {
   "cell_type": "code",
   "execution_count": 46,
   "id": "05246814-42f4-4f19-b7d8-7657fb02bcbd",
   "metadata": {},
   "outputs": [],
   "source": [
    "result = generate_metadata_from_hive_query(\n",
    "    file_path = file_path,\n",
    "    idx_query = idx_query\n",
    ")"
   ]
  },
  {
   "cell_type": "code",
   "execution_count": 47,
   "id": "ad5eea79-1e32-4722-9e74-c01f10cee8ca",
   "metadata": {},
   "outputs": [
    {
     "name": "stdout",
     "output_type": "stream",
     "text": [
      "CREATE TABLE schema.table AS\n",
      "SELECT a.col1,\n",
      "       CASE\n",
      "           WHEN a.col2 = 15 THEN 1\n",
      "           ELSE CASE\n",
      "                    WHEN a.col2 < 0 THEN 2\n",
      "                    ELSE CASE\n",
      "                             WHEN a.col2 > 15\n",
      "                                  AND a.col1 = a.col3 THEN 3\n",
      "                             ELSE 0\n",
      "                         END\n",
      "                END\n",
      "       END AS col2_ind\n",
      "FROM schema_name.table_name_case AS a;\n"
     ]
    }
   ],
   "source": [
    "print(result[idx_query]['query'])"
   ]
  },
  {
   "cell_type": "code",
   "execution_count": 48,
   "id": "fac3d98b-d4e6-4241-952f-15898448566f",
   "metadata": {},
   "outputs": [
    {
     "name": "stdout",
     "output_type": "stream",
     "text": [
      "{'token': 'create', 'type': 'table', 'value': 'schema.table', 'metadta': {'schema_name': 'schema', 'table_name': 'table', 'table_alias': None}}\n",
      "{'token': 'select', 'type': 'column', 'value': 'a.col1', 'metadata': {'column_name': 'col1', 'table_alias': 'a'}}\n",
      "{'token': 'select', 'type': 'case', 'is_nested': True, 'metadta': [{'when': 'a.col2 = 15'}, {'then': '1'}, {'else': 'nested_case'}, {'column_name': 'col2_ind'}, [{'when': 'a.col2 < 0'}, {'then': '2'}, {'else': 'nested_case'}], [{'when': 'a.col2 > 15'}, {'when': 'a.col1 = a.col3'}, {'then': '3'}, {'else': '0'}]]}\n",
      "{'token': 'FROM', 'type': 'table', 'value': 'schema_name.table_name_case as a', 'metadata': {'schema_name': 'schema_name', 'table_name': 'table_name_case', 'table_alias': 'a'}}\n"
     ]
    }
   ],
   "source": [
    "for item in result[idx_query]['metadata_query']:\n",
    "    print(item)"
   ]
  },
  {
   "cell_type": "markdown",
   "id": "9da0531d-0f64-4acd-a0b1-99012808e1e2",
   "metadata": {},
   "source": [
    "# Use Case 4 (Temporary Tables)\n",
    "\n",
    "This involves multiple temporary tables."
   ]
  },
  {
   "cell_type": "code",
   "execution_count": 49,
   "id": "7daa519c-481d-42ea-9101-cc023a202b9d",
   "metadata": {},
   "outputs": [],
   "source": [
    "file_path = '../data/sample_tmp_tables.sql'"
   ]
  },
  {
   "cell_type": "code",
   "execution_count": 50,
   "id": "6f22d2e9-c09d-483a-a508-0680fa7497cf",
   "metadata": {},
   "outputs": [],
   "source": [
    "result = generate_metadata_from_hive_query(\n",
    "    file_path = file_path,\n",
    "    idx_query = idx_query\n",
    ")"
   ]
  },
  {
   "cell_type": "code",
   "execution_count": 51,
   "id": "2bedc637-2af8-4c0f-9191-11cc3c60c62f",
   "metadata": {},
   "outputs": [
    {
     "name": "stdout",
     "output_type": "stream",
     "text": [
      "CREATE TABLE schema.table AS WITH tmp_table_0 AS\n",
      "  (SELECT a.col1,\n",
      "          a.col2,\n",
      "          a.col3,\n",
      "          a.col4\n",
      "   FROM schema_name_2.table_name_source0 AS a),\n",
      "                                  tmp_table_1 AS\n",
      "  (SELECT b.col1,\n",
      "          b.col4,\n",
      "          b.col5,\n",
      "          b.col6\n",
      "   FROM schema_name_2.table_name_source1 AS b)\n",
      "SELECT A.col1,\n",
      "       A.col2,\n",
      "       A.col3,\n",
      "       B.col4,\n",
      "       CASE\n",
      "           WHEN b.col5 = a.col4 THEN 1\n",
      "           ELSE 0\n",
      "       END AS col5,\n",
      "       COALESCE(b.col6,\n",
      "                0) AS col6_fill_na\n",
      "FROM tmp_table_0 AS A,\n",
      "     tmp_table_1 AS B\n",
      "WHERE a.col1 = b.col1;\n"
     ]
    }
   ],
   "source": [
    "print(result[idx_query]['query'])"
   ]
  },
  {
   "cell_type": "code",
   "execution_count": 52,
   "id": "7ff8c6b2-bf92-43fe-b0b9-3a7bd09dabf8",
   "metadata": {},
   "outputs": [
    {
     "name": "stdout",
     "output_type": "stream",
     "text": [
      "{'token': 'create', 'type': 'table', 'value': 'schema.table', 'metadta': {'schema_name': 'schema', 'table_name': 'table', 'table_alias': None}}\n",
      "{'token': 'with', 'type': 'temporary table', 'table_alias': None, 'value': [{'token': 'select', 'type': 'column', 'value': 'b.col1', 'metadata': {'column_name': 'col1', 'table_alias': 'b'}}, {'token': 'select', 'type': 'column', 'value': 'b.col4', 'metadata': {'column_name': 'col4', 'table_alias': 'b'}}, {'token': 'select', 'type': 'column', 'value': 'b.col5', 'metadata': {'column_name': 'col5', 'table_alias': 'b'}}, {'token': 'select', 'type': 'column', 'value': 'b.col6', 'metadata': {'column_name': 'col6', 'table_alias': 'b'}}, {'token': 'FROM', 'type': 'table', 'value': 'schema_name_2.table_name_source1 AS b', 'metadata': {'schema_name': 'schema_name_2', 'table_name': 'table_name_source1', 'table_alias': 'b'}}]}\n",
      "{'token': 'with', 'type': 'temporary table', 'table_alias': None, 'value': [{'token': 'select', 'type': 'column', 'value': 'b.col1', 'metadata': {'column_name': 'col1', 'table_alias': 'b'}}, {'token': 'select', 'type': 'column', 'value': 'b.col4', 'metadata': {'column_name': 'col4', 'table_alias': 'b'}}, {'token': 'select', 'type': 'column', 'value': 'b.col5', 'metadata': {'column_name': 'col5', 'table_alias': 'b'}}, {'token': 'select', 'type': 'column', 'value': 'b.col6', 'metadata': {'column_name': 'col6', 'table_alias': 'b'}}, {'token': 'FROM', 'type': 'table', 'value': 'schema_name_2.table_name_source1 AS b', 'metadata': {'schema_name': 'schema_name_2', 'table_name': 'table_name_source1', 'table_alias': 'b'}}]}\n",
      "{'token': 'select', 'type': 'column', 'value': 'A.col1', 'metadata': {'column_name': 'col1', 'table_alias': 'A'}}\n",
      "{'token': 'select', 'type': 'column', 'value': 'A.col2', 'metadata': {'column_name': 'col2', 'table_alias': 'A'}}\n",
      "{'token': 'select', 'type': 'column', 'value': 'A.col3', 'metadata': {'column_name': 'col3', 'table_alias': 'A'}}\n",
      "{'token': 'select', 'type': 'column', 'value': 'B.col4', 'metadata': {'column_name': 'col4', 'table_alias': 'B'}}\n",
      "{'token': 'select', 'type': 'case', 'is_nested': False, 'metadta': [{'when': 'b.col5 = a.col4'}, {'then': '1'}, {'else': '0'}, {'column_name': 'col5'}]}\n",
      "{'token': 'select', 'type': 'column', 'value': 'COALESCE(b.col6, 0) as col6_fill_na', 'metadata': {'column_name': 'col6_fill_na', 'is_function': True}}\n",
      "{'token': 'FROM', 'type': 'table', 'value': 'tmp_table_0 as A', 'metadata': {'schema_name': None, 'table_name': 'tmp_table_0', 'table_alias': 'A'}}\n",
      "{'token': 'FROM', 'type': 'table', 'value': 'tmp_table_1 as B', 'metadata': {'schema_name': None, 'table_name': 'tmp_table_1', 'table_alias': 'B'}}\n",
      "{'token': 'WHERE', 'type': 'comparison', 'value': 'a.col1 = b.col1'}\n"
     ]
    }
   ],
   "source": [
    "for item in result[idx_query]['metadata_query']:\n",
    "    print(item)"
   ]
  },
  {
   "cell_type": "markdown",
   "id": "2aaae593-78ad-41d6-ade1-02fe8aa7ce54",
   "metadata": {},
   "source": [
    "# Use Case 5 (Various Columns)\n",
    "\n",
    "This query includes various functions."
   ]
  },
  {
   "cell_type": "code",
   "execution_count": 28,
   "id": "21464abe-ebc0-4caa-97d1-6ae261506a05",
   "metadata": {},
   "outputs": [],
   "source": [
    "file_path = '../data/sample_various_columns.sql'"
   ]
  },
  {
   "cell_type": "code",
   "execution_count": 29,
   "id": "58b6c3ee-0089-453b-8c4d-ef7aa90bb8f5",
   "metadata": {},
   "outputs": [],
   "source": [
    "result = generate_metadata_from_hive_query(\n",
    "    file_path = file_path,\n",
    "    idx_query = idx_query\n",
    ")"
   ]
  },
  {
   "cell_type": "code",
   "execution_count": 30,
   "id": "5beeda47-c1be-4301-8d39-346b1fcf0686",
   "metadata": {},
   "outputs": [
    {
     "name": "stdout",
     "output_type": "stream",
     "text": [
      "CREATE TABLE schema.table AS\n",
      "SELECT a.col1,\n",
      "       COALESCE(a.col2,\n",
      "                0) AS col2_coalesce,\n",
      "       NVL(a.col3,\n",
      "           0) AS col3_nvl,\n",
      "       CASE\n",
      "           WHEN a.col3 == b.col3 THEN 1\n",
      "           ELSE 0\n",
      "       END AS col3_comaprison_ind,\n",
      "       b.col4 AS col4_renamed,\n",
      "       count(b.col5) AS col5_sum,\n",
      "       1 AS col6,\n",
      "       b.col7 - b.col6 AS col7,\n",
      "       1.1 AS col8,\n",
      "       'A' AS col9,\n",
      "       cast(b.col10 AS bigint) AS col10_bigint,\n",
      "       col11\n",
      "FROM schema_name.table_name_various AS a\n",
      "JOIN schema_name.table_name_various AS b ON a.col1 == b.col2\n",
      "AND a.col2 > b.col2;\n"
     ]
    }
   ],
   "source": [
    "print(result[idx_query]['query'])"
   ]
  },
  {
   "cell_type": "code",
   "execution_count": 31,
   "id": "c9b6bcf6-72c6-42a6-983c-0345ece4debd",
   "metadata": {},
   "outputs": [
    {
     "name": "stdout",
     "output_type": "stream",
     "text": [
      "{'token': 'create', 'type': 'table', 'value': 'schema.table', 'metadta': {'schema_name': 'schema', 'table_name': 'table', 'table_alias': None}}\n",
      "{'token': 'select', 'type': 'column', 'value': 'a.col1', 'metadata': {'column_name': 'col1', 'table_alias': 'a'}}\n",
      "{'token': 'select', 'type': 'column', 'value': 'COALESCE(a.col2, 0) as col2_coalesce', 'metadata': {'column_name': 'col2_coalesce', 'is_function': True}}\n",
      "{'token': 'select', 'type': 'column', 'value': 'NVL(a.col3, 0) as col3_nvl', 'metadata': {'column_name': 'col3_nvl', 'is_function': True}}\n",
      "{'token': 'select', 'type': 'case', 'is_nested': False, 'metadta': [{'when': 'a.col3 == b.col3'}, {'then': '1'}, {'else': '0'}, {'column_name': 'col3_comaprison_ind'}]}\n",
      "{'token': 'select', 'type': 'column', 'value': 'b.col4 AS col4_renamed', 'metadata': {'column_name': 'col4_renamed', 'column_name_before_rename': 'col4', 'table_alias': 'b'}}\n",
      "{'token': 'select', 'type': 'column', 'value': 'count(b.col5) AS col5_sum', 'metadata': {'column_name': 'col5_sum', 'is_function': True}}\n",
      "{'token': 'select', 'type': 'column', 'value': '1 AS col6', 'metadata': {'column_name': 'col6', 'is_others': True}}\n",
      "{'token': 'select', 'type': 'column', 'value': 'b.col7 - b.col6 AS col7', 'metadata': {'column_name': 'col7', 'is_others': True}}\n",
      "{'token': 'select', 'type': 'column', 'value': '1.1 AS col8', 'metadata': {'column_name': 'col8', 'is_others': True}}\n",
      "{'token': 'select', 'type': 'column', 'value': \"'A' AS col9\", 'metadata': {'column_name': 'col9', 'is_others': True}}\n",
      "{'token': 'select', 'type': 'column', 'value': 'cast(b.col10 AS bigint) AS col10_bigint', 'metadata': {'column_name': 'col10_bigint', 'is_function': True}}\n",
      "{'token': 'select', 'type': 'column', 'value': 'col11', 'metadata': {'column_name': 'col11'}}\n",
      "{'token': 'FROM', 'type': 'table', 'value': 'schema_name.table_name_various as a', 'metadata': {'schema_name': 'schema_name', 'table_name': 'table_name_various', 'table_alias': 'a'}}\n",
      "{'token': 'join', 'type': 'table', 'value': 'schema_name.table_name_various as b', 'metadata': {'schema_name': 'schema_name', 'table_name': 'table_name_various', 'table_alias': 'b'}}\n",
      "{'token': 'ON', 'type': 'comparison', 'value': 'a.col1 == b.col2'}\n",
      "{'token': 'ON', 'type': 'comparison', 'value': 'a.col2 > b.col2'}\n"
     ]
    }
   ],
   "source": [
    "for item in result[idx_query]['metadata_query']:\n",
    "    print(item)"
   ]
  },
  {
   "cell_type": "markdown",
   "id": "250358c0-5f03-4a1e-94b9-40a02b500d31",
   "metadata": {},
   "source": [
    "# Use Case 6 (Sub-queries)\n",
    "\n",
    "This includes a nested sub-query."
   ]
  },
  {
   "cell_type": "code",
   "execution_count": 53,
   "id": "742a8985-49e6-4e6e-9c62-bc6ebfff09eb",
   "metadata": {},
   "outputs": [],
   "source": [
    "file_path = '../data/sample_subquery.sql'"
   ]
  },
  {
   "cell_type": "code",
   "execution_count": 54,
   "id": "1979214f-92a6-49dc-a738-4a93ed414de4",
   "metadata": {},
   "outputs": [],
   "source": [
    "result = generate_metadata_from_hive_query(\n",
    "    file_path = file_path,\n",
    "    idx_query = idx_query\n",
    ")"
   ]
  },
  {
   "cell_type": "code",
   "execution_count": 55,
   "id": "5f912fb1-502f-4a50-8c2e-c072aa349e85",
   "metadata": {},
   "outputs": [
    {
     "name": "stdout",
     "output_type": "stream",
     "text": [
      "CREATE TABLE schema.table AS\n",
      "SELECT a.col1,\n",
      "       a.col2,\n",
      "       b.col4\n",
      "FROM\n",
      "  (SELECT c.col1,\n",
      "          c.col2\n",
      "   FROM\n",
      "     (SELECT d.col1,\n",
      "             d.col2\n",
      "      FROM schema_name_2.table_name_11_0 AS d) AS c) AS a\n",
      "JOIN schema_name.table_name_subquery AS b ON a.col1 = b.col1;\n"
     ]
    }
   ],
   "source": [
    "print(result[idx_query]['query'])"
   ]
  },
  {
   "cell_type": "code",
   "execution_count": 56,
   "id": "babe6f8b-7c18-4f5c-aac9-21cbe1785d7b",
   "metadata": {},
   "outputs": [
    {
     "name": "stdout",
     "output_type": "stream",
     "text": [
      "{'token': 'create', 'type': 'table', 'value': 'schema.table', 'metadta': {'schema_name': 'schema', 'table_name': 'table', 'table_alias': None}}\n",
      "{'token': 'select', 'type': 'column', 'value': 'a.col1', 'metadata': {'column_name': 'col1', 'table_alias': 'a'}}\n",
      "{'token': 'select', 'type': 'column', 'value': 'a.col2', 'metadata': {'column_name': 'col2', 'table_alias': 'a'}}\n",
      "{'token': 'select', 'type': 'column', 'value': 'b.col4', 'metadata': {'column_name': 'col4', 'table_alias': 'b'}}\n",
      "{'token': 'FROM', 'type': 'subquery', 'value': [{'token': 'select', 'type': 'column', 'value': 'c.col1', 'metadata': {'column_name': 'col1', 'table_alias': 'c'}}, {'token': 'select', 'type': 'column', 'value': 'c.col2', 'metadata': {'column_name': 'col2', 'table_alias': 'c'}}, {'token': 'FROM', 'type': 'subquery', 'value': [{'token': 'select', 'type': 'column', 'value': 'd.col1', 'metadata': {'column_name': 'col1', 'table_alias': 'd'}}, {'token': 'select', 'type': 'column', 'value': 'd.col2', 'metadata': {'column_name': 'col2', 'table_alias': 'd'}}, {'token': 'FROM', 'type': 'table', 'value': 'schema_name_2.table_name_11_0 as d', 'metadata': {'schema_name': 'schema_name_2', 'table_name': 'table_name_11_0', 'table_alias': 'd'}}], 'alias': 'c'}], 'alias': 'a'}\n",
      "{'token': 'join', 'type': 'table', 'value': 'schema_name.table_name_subquery as b', 'metadata': {'schema_name': 'schema_name', 'table_name': 'table_name_subquery', 'table_alias': 'b'}}\n",
      "{'token': 'ON', 'type': 'comparison', 'value': 'a.col1 = b.col1'}\n"
     ]
    }
   ],
   "source": [
    "for item in result[idx_query]['metadata_query']:\n",
    "    print(item)"
   ]
  },
  {
   "cell_type": "markdown",
   "id": "0e81ca10-a724-4d0f-ac3c-3df93ec8b2e3",
   "metadata": {},
   "source": [
    "# Use Case 7 (Having)\n",
    "\n",
    "This query involves Having statement."
   ]
  },
  {
   "cell_type": "code",
   "execution_count": 3,
   "id": "dba59d0a-ecea-4ccb-80eb-4fec950a4997",
   "metadata": {},
   "outputs": [],
   "source": [
    "file_path = '../data/sample_having.sql'"
   ]
  },
  {
   "cell_type": "code",
   "execution_count": 4,
   "id": "4972c1c3-f996-4a7c-a8c7-fbcdb8001d88",
   "metadata": {},
   "outputs": [],
   "source": [
    "result = generate_metadata_from_hive_query(\n",
    "    file_path = file_path,\n",
    "    idx_query = idx_query\n",
    ")"
   ]
  },
  {
   "cell_type": "code",
   "execution_count": 5,
   "id": "6467a311-dc90-4445-ba88-df3da03312d5",
   "metadata": {},
   "outputs": [
    {
     "name": "stdout",
     "output_type": "stream",
     "text": [
      "CREATE TABLE schema.table AS\n",
      "SELECT a.col1,\n",
      "       a.col2,\n",
      "       COUNT(DISTINCT a.col3) AS col3_sum_distinct,\n",
      "       COUNT(a.col3) AS col3_sum\n",
      "FROM schmea_name.table_name AS a\n",
      "WHERE a.col3 IN (1,\n",
      "                 2)\n",
      "GROUP BY a.col1,\n",
      "         a.col2\n",
      "HAVING COUNT(DISTINCT a.col3) > 1\n",
      "OR a.col3 == -10\n"
     ]
    }
   ],
   "source": [
    "print(result[idx_query]['query'])"
   ]
  },
  {
   "cell_type": "code",
   "execution_count": 6,
   "id": "3a8d1ad2-c8ff-47e8-83a1-da0e87edd75d",
   "metadata": {},
   "outputs": [
    {
     "name": "stdout",
     "output_type": "stream",
     "text": [
      "{'token': 'create', 'type': 'table', 'value': 'schema.table', 'metadta': {'schema_name': 'schema', 'table_name': 'table', 'table_alias': None}}\n",
      "{'token': 'select', 'type': 'column', 'value': 'a.col1', 'metadata': {'column_name': 'col1', 'table_alias': 'a'}}\n",
      "{'token': 'select', 'type': 'column', 'value': 'a.col2', 'metadata': {'column_name': 'col2', 'table_alias': 'a'}}\n",
      "{'token': 'select', 'type': 'column', 'value': 'COUNT(DISTINCT a.col3) AS col3_sum_distinct', 'metadata': {'column_name': 'col3_sum_distinct', 'is_function': True}}\n",
      "{'token': 'select', 'type': 'column', 'value': 'COUNT(a.col3) AS col3_sum', 'metadata': {'column_name': 'col3_sum', 'is_function': True}}\n",
      "{'token': 'FROM', 'type': 'table', 'value': 'schmea_name.table_name AS a', 'metadata': {'schema_name': 'schmea_name', 'table_name': 'table_name', 'table_alias': 'a'}}\n",
      "{'token': 'GROUP BY', 'type': 'column', 'value': 'a.col1', 'metadata': {'column_name': 'col1', 'table_alias': 'a'}}\n",
      "{'token': 'GROUP BY', 'type': 'column', 'value': 'a.col2', 'metadata': {'column_name': 'col2', 'table_alias': 'a'}}\n",
      "{'token': 'having', 'type': 'comparison', 'value': 'COUNT(DISTINCT a.col3) > 1'}\n",
      "{'token': 'having', 'type': 'comparison', 'value': 'a.col3 == -10'}\n"
     ]
    }
   ],
   "source": [
    "for item in result[idx_query]['metadata_query']:\n",
    "    print(item)"
   ]
  },
  {
   "cell_type": "code",
   "execution_count": null,
   "id": "d2897a8f-48c6-4ff8-98bd-a0f414d97943",
   "metadata": {},
   "outputs": [],
   "source": []
  }
 ],
 "metadata": {
  "kernelspec": {
   "display_name": "Python 3",
   "language": "python",
   "name": "python3"
  },
  "language_info": {
   "codemirror_mode": {
    "name": "ipython",
    "version": 3
   },
   "file_extension": ".py",
   "mimetype": "text/x-python",
   "name": "python",
   "nbconvert_exporter": "python",
   "pygments_lexer": "ipython3",
   "version": "3.8.8"
  }
 },
 "nbformat": 4,
 "nbformat_minor": 5
}
