{
 "cells": [
  {
   "cell_type": "code",
   "execution_count": 101,
   "id": "6234f230-b1fb-4de2-b478-908ac9ac9c90",
   "metadata": {},
   "outputs": [],
   "source": [
    "from src.MetadataGeneratorHiveQuery import *\n",
    "import sqlparse\n",
    "import re\n",
    "from sqlparse.tokens import Token"
   ]
  },
  {
   "cell_type": "code",
   "execution_count": 94,
   "id": "82293e33-860f-4c4d-80dd-55bf3785f0f4",
   "metadata": {},
   "outputs": [],
   "source": [
    "utils = Utilities()\n",
    "retrievals = Retrievals()\n",
    "processes  = Processes()\n",
    "gmhq = GenerateMetadataHiveQueries()"
   ]
  },
  {
   "cell_type": "code",
   "execution_count": 109,
   "id": "aa1dd0a2-ac23-46e0-8c61-d5c92d8b6c52",
   "metadata": {
    "tags": []
   },
   "outputs": [],
   "source": [
    "def is_wildcard(token:sqlparse.sql.Identifier):\n",
    "    \"\"\"\n",
    "    \"\"\"\n",
    "    # --- considered: a.*\n",
    "    try:\n",
    "        if token.is_wildcard():\n",
    "            print(1)\n",
    "            return True\n",
    "        else:\n",
    "            pass\n",
    "    except:\n",
    "        pass\n",
    "\n",
    "    # --- considered: *\n",
    "    try:\n",
    "        if token.ttype == Wildcard:\n",
    "            print(2)\n",
    "            return True\n",
    "        else:\n",
    "            pass\n",
    "    except:\n",
    "        pass\n",
    "\n",
    "    return False\n",
    "\n",
    "def retrieve_idenfitier_metadata_select(token:sqlparse.sql.Identifier):\n",
    "    \"\"\"\n",
    "    \"\"\"\n",
    "    # --- initialization\n",
    "    res = dict()\n",
    "\n",
    "    # --- alias\n",
    "    try:\n",
    "        _res = token.has_alias()\n",
    "    except:\n",
    "        _res = False\n",
    "    res['has_alias'] = _res\n",
    "\n",
    "    # --- keyword\n",
    "    try:\n",
    "        _res = token.is_keyword\n",
    "    except:\n",
    "        _res = False\n",
    "    res['is_keyword'] = _res\n",
    "\n",
    "    # --- wildcard\n",
    "    res['is_wildcard'] = is_wildcard(token)\n",
    "\n",
    "    return res\n",
    "\n",
    "def is_known_token(token:sqlparse.sql.Token):\n",
    "    \"\"\"\n",
    "    \"\"\"\n",
    "    # --- initialization\n",
    "    res = dict()\n",
    "\n",
    "    # --- Number (Integer and Float)\n",
    "    if token.ttype in Token.Number:\n",
    "        _res = True\n",
    "    else:\n",
    "        _res = False\n",
    "    res['is_number'] = _res\n",
    "\n",
    "    # --- String (Single)\n",
    "    if token.ttype in Token.String:\n",
    "        _res = True\n",
    "    else:\n",
    "        _res = False\n",
    "    res['is_string'] = _res\n",
    "\n",
    "    # --- Case\n",
    "    if isinstance(token, Case):\n",
    "        _res = True\n",
    "    else:\n",
    "        _res = False\n",
    "    res['is_case'] = _res\n",
    "\n",
    "    # --- Function\n",
    "    if isinstance(token, Function):\n",
    "        _res = True\n",
    "    else:\n",
    "        _res = False\n",
    "    res['is_function'] = _res\n",
    "\n",
    "    return res"
   ]
  },
  {
   "cell_type": "code",
   "execution_count": 185,
   "id": "f11ab8f0-1da6-4e1f-9249-7878762d24e8",
   "metadata": {},
   "outputs": [],
   "source": [
    "query = \"\"\"select\n",
    "case \n",
    "    when a = 1 \n",
    "    then 1 \n",
    "    else \n",
    "        case \n",
    "            when b = 1 \n",
    "            then 1 \n",
    "        end \n",
    "    end as c\n",
    "from\n",
    "table\"\"\""
   ]
  },
  {
   "cell_type": "code",
   "execution_count": 186,
   "id": "9bed2355-182b-4f71-ac00-d1e710f7a359",
   "metadata": {},
   "outputs": [],
   "source": [
    "stmt, = sqlparse.parse(query)"
   ]
  },
  {
   "cell_type": "code",
   "execution_count": 187,
   "id": "556211c2-8253-47b0-a527-ea63df301e18",
   "metadata": {},
   "outputs": [],
   "source": [
    "tokens = stmt.tokens"
   ]
  },
  {
   "cell_type": "code",
   "execution_count": 188,
   "id": "f3116873-85fb-4fb2-bd08-e3ca4b34c2e1",
   "metadata": {},
   "outputs": [
    {
     "data": {
      "text/plain": [
       "[<Case 'case ...' at 0x7F82687DB2E0>,\n",
       " <Whitespace ' ' at 0x7F82687BCBE0>,\n",
       " <Keyword 'as' at 0x7F82687BCC40>,\n",
       " <Whitespace ' ' at 0x7F82687BCCA0>,\n",
       " <Identifier 'c' at 0x7F82687DB430>]"
      ]
     },
     "execution_count": 188,
     "metadata": {},
     "output_type": "execute_result"
    }
   ],
   "source": [
    "token = tokens[2]\n",
    "token.tokens"
   ]
  },
  {
   "cell_type": "code",
   "execution_count": null,
   "id": "48b7ecb7-c69d-4c33-bee7-a87bac1de8f9",
   "metadata": {},
   "outputs": [],
   "source": []
  },
  {
   "cell_type": "code",
   "execution_count": null,
   "id": "d6aec4b5-1bed-402c-a561-ea38ee91ca48",
   "metadata": {},
   "outputs": [],
   "source": []
  },
  {
   "cell_type": "code",
   "execution_count": null,
   "id": "68f24c98-4ea6-40fd-9b4d-51309639c80b",
   "metadata": {},
   "outputs": [],
   "source": []
  },
  {
   "cell_type": "code",
   "execution_count": null,
   "id": "bb0b454e-68dd-4ca0-850b-56f389523094",
   "metadata": {},
   "outputs": [],
   "source": []
  },
  {
   "cell_type": "code",
   "execution_count": 189,
   "id": "e9151a8f-00ee-43c3-9a94-6e523e2e4516",
   "metadata": {},
   "outputs": [
    {
     "name": "stdout",
     "output_type": "stream",
     "text": [
      "key is: is_case\n"
     ]
    }
   ],
   "source": [
    "if isinstance(token, Identifier):\n",
    "\n",
    "    # --- metadata\n",
    "    tmp_meta = retrieve_idenfitier_metadata_select(token)\n",
    "    \n",
    "    # --- with alias    \n",
    "    if tmp_meta['has_alias']:\n",
    "        \n",
    "        name_alias = token.get_alias()\n",
    "        \n",
    "        # --- load only the first token\n",
    "        _token = token.token_first()\n",
    "        _tmp = is_known_token(_token)\n",
    "        \n",
    "        # --- a as b / a.b as c\n",
    "        if sum(_tmp.values()) == 0:\n",
    "            \n",
    "            # --- column name\n",
    "            name = _token.get_real_name()\n",
    "            \n",
    "            # --- table alias\n",
    "            try:\n",
    "                name_parent = _token.get_parent_name()\n",
    "            except:\n",
    "                name_parent = None\n",
    "            \n",
    "            print(name_parent, name, name_alias)\n",
    "            \n",
    "        # --- main logic\n",
    "        else:  \n",
    "            key = [k for k,v in _tmp.items() if v == True][0]\n",
    "            print(f'key is: {key}')\n",
    "        \n",
    "    # --- a or a.b        \n",
    "    else:\n",
    "        # --- column name\n",
    "        name = token.get_real_name()\n",
    "        \n",
    "        # --- table alias\n",
    "        try:\n",
    "            name_parent = token.get_parent_name()\n",
    "        except:\n",
    "            name_parent = None \n",
    "            \n",
    "        print(name_parent, name)\n",
    "        \n",
    "# ---\n",
    "else:\n",
    "    tmp = is_known_token(token)\n",
    "\n",
    "    if sum(tmp.values()) == 1:\n",
    "        key = [k for k,v in tmp.items() if v == True][0]\n",
    "        print(f'key is: {key}')\n",
    "        \n",
    "    elif sum(tmp.values()) == 0:\n",
    "        print('this is unknown token')\n",
    "        \n",
    "    elif sum(tmp.values()) > 1:\n",
    "        print('logic has issue. more than one known token')\n",
    "        \n",
    "    else:\n",
    "        print('unkonwn error')"
   ]
  },
  {
   "cell_type": "code",
   "execution_count": 190,
   "id": "4d16a8b8-d0ee-4ef6-9945-1a7d1615e78c",
   "metadata": {},
   "outputs": [],
   "source": [
    "a = _token.get_cases(skip_ws = True)"
   ]
  },
  {
   "cell_type": "code",
   "execution_count": 191,
   "id": "4d771217-2846-4411-ae23-82cacd209213",
   "metadata": {},
   "outputs": [
    {
     "data": {
      "text/plain": [
       "([<Keyword 'when' at 0x7F82691CCFA0>, <Comparison 'a = 1' at 0x7F82687DB580>],\n",
       " [<Keyword 'then' at 0x7F8268697EE0>, <Integer '1' at 0x7F8268697E20>])"
      ]
     },
     "execution_count": 191,
     "metadata": {},
     "output_type": "execute_result"
    }
   ],
   "source": [
    "a[0]"
   ]
  },
  {
   "cell_type": "code",
   "execution_count": 192,
   "id": "dab16b7b-c0a5-495c-81e7-89dc41ea03b6",
   "metadata": {},
   "outputs": [
    {
     "data": {
      "text/plain": [
       "(None,\n",
       " [<Keyword 'else' at 0x7F8268AB0220>, <Case 'case ...' at 0x7F826878CF90>])"
      ]
     },
     "execution_count": 192,
     "metadata": {},
     "output_type": "execute_result"
    }
   ],
   "source": [
    "a[1]"
   ]
  },
  {
   "cell_type": "code",
   "execution_count": 196,
   "id": "4e7627cc-22fb-41dc-888f-c0b699b985fb",
   "metadata": {},
   "outputs": [
    {
     "data": {
      "text/plain": [
       "[([<Keyword 'when' at 0x7F8268AB0BE0>, <Comparison 'b = 1' at 0x7F82687DB5F0>],\n",
       "  [<Keyword 'then' at 0x7F82687BC400>, <Integer '1' at 0x7F82687BC4C0>])]"
      ]
     },
     "execution_count": 196,
     "metadata": {},
     "output_type": "execute_result"
    }
   ],
   "source": [
    "a[1][1][1].get_cases(skip_ws=True)"
   ]
  },
  {
   "cell_type": "code",
   "execution_count": null,
   "id": "4c226784-f037-4133-980e-340e3aa0338d",
   "metadata": {},
   "outputs": [],
   "source": []
  },
  {
   "cell_type": "code",
   "execution_count": null,
   "id": "88809434-8c02-4c0c-a2ab-f467aecd11b8",
   "metadata": {},
   "outputs": [],
   "source": []
  },
  {
   "cell_type": "code",
   "execution_count": 68,
   "id": "2f9ddcfc-e1bf-4159-932b-b44b6a3495e6",
   "metadata": {},
   "outputs": [],
   "source": [
    "query = \"\"\"\n",
    "SELECT\n",
    "    a,\n",
    "    min(a),\n",
    "    cast(a as bigint),\n",
    "    cast(a as bigint) as a_bigint,\n",
    "    min(a) as a_min,\n",
    "    case when a == 1 then 1 else 0 end as a_case\n",
    "FROM\n",
    "    table\n",
    "\"\"\".strip()\n",
    "\n",
    "query = re.sub('\\s+', ' ', query)"
   ]
  },
  {
   "cell_type": "code",
   "execution_count": 72,
   "id": "62b735aa-1450-42a5-aa54-5fb62e590d38",
   "metadata": {},
   "outputs": [],
   "source": [
    "stmt, = sqlparse.parse(query)"
   ]
  },
  {
   "cell_type": "code",
   "execution_count": 73,
   "id": "edd1cef3-d819-4a76-a6d2-9d309474cfee",
   "metadata": {},
   "outputs": [
    {
     "data": {
      "text/plain": [
       "<IdentifierList 'a, min...' at 0x7F826917E430>"
      ]
     },
     "execution_count": 73,
     "metadata": {},
     "output_type": "execute_result"
    }
   ],
   "source": [
    "a = stmt.tokens[2]\n",
    "a"
   ]
  },
  {
   "cell_type": "code",
   "execution_count": 74,
   "id": "a0781176-cdd9-4b1e-b465-4571029d5dcb",
   "metadata": {},
   "outputs": [
    {
     "data": {
      "text/plain": [
       "[<Identifier 'a' at 0x7F826917BAC0>,\n",
       " <Punctuation ',' at 0x7F8269234E80>,\n",
       " <Whitespace ' ' at 0x7F8269234EE0>,\n",
       " <Function 'min(a)' at 0x7F826917B820>,\n",
       " <Punctuation ',' at 0x7F8269234760>,\n",
       " <Whitespace ' ' at 0x7F8269179040>,\n",
       " <Function 'max(a)' at 0x7F826917B890>,\n",
       " <Punctuation ',' at 0x7F8269179220>,\n",
       " <Whitespace ' ' at 0x7F8269179280>,\n",
       " <Function 'count(...' at 0x7F826917B900>,\n",
       " <Punctuation ',' at 0x7F8269179460>,\n",
       " <Whitespace ' ' at 0x7F82691794C0>,\n",
       " <Function 'cast(a...' at 0x7F826917B970>,\n",
       " <Punctuation ',' at 0x7F8269179820>,\n",
       " <Whitespace ' ' at 0x7F8269179880>,\n",
       " <Identifier 'cast(a...' at 0x7F826917E2E0>,\n",
       " <Punctuation ',' at 0x7F8269179D60>,\n",
       " <Whitespace ' ' at 0x7F8269179DC0>,\n",
       " <Identifier 'min(a)...' at 0x7F826917E350>,\n",
       " <Punctuation ',' at 0x7F8269184160>,\n",
       " <Whitespace ' ' at 0x7F82691841C0>,\n",
       " <Identifier 'case w...' at 0x7F826917E3C0>]"
      ]
     },
     "execution_count": 74,
     "metadata": {},
     "output_type": "execute_result"
    }
   ],
   "source": [
    "a.tokens"
   ]
  },
  {
   "cell_type": "code",
   "execution_count": 79,
   "id": "28582868-eeeb-4d4e-bf6f-2b8d6e7a6d96",
   "metadata": {},
   "outputs": [
    {
     "data": {
      "text/plain": [
       "<Function 'min(a)' at 0x7F826917B820>"
      ]
     },
     "execution_count": 79,
     "metadata": {},
     "output_type": "execute_result"
    }
   ],
   "source": [
    "b = a[3]\n",
    "b"
   ]
  },
  {
   "cell_type": "code",
   "execution_count": null,
   "id": "f4ecfc57-2312-4fdb-a1a9-0c587d06c26c",
   "metadata": {},
   "outputs": [],
   "source": [
    "b."
   ]
  },
  {
   "cell_type": "code",
   "execution_count": null,
   "id": "8d3c5d11-dda2-4042-92d5-4d6273959d95",
   "metadata": {},
   "outputs": [],
   "source": []
  },
  {
   "cell_type": "code",
   "execution_count": null,
   "id": "332d7a36-311a-4367-8969-144575a1008e",
   "metadata": {},
   "outputs": [],
   "source": []
  },
  {
   "cell_type": "code",
   "execution_count": null,
   "id": "22565fc8-4315-489a-90ef-53560c2c5424",
   "metadata": {},
   "outputs": [],
   "source": []
  },
  {
   "cell_type": "code",
   "execution_count": null,
   "id": "03df68d7-85b1-4b4a-9046-4a0495642c27",
   "metadata": {},
   "outputs": [],
   "source": []
  },
  {
   "cell_type": "code",
   "execution_count": 3,
   "id": "7944c4ee-1ada-4429-a82c-f0ace9ea8ac7",
   "metadata": {},
   "outputs": [],
   "source": [
    "def is_over_in_tokens(statement:sqlparse.sql.Statement):\n",
    "    \"\"\"\n",
    "    \"\"\"\n",
    "    for token in statement:        \n",
    "        if token.ttype == Keyword and token.value.lower() == 'over':\n",
    "            return True  \n",
    "    return False\n",
    "\n",
    "\n",
    "def retrieve_indices_over(statement:sqlparse.sql.Statement):\n",
    "    \"\"\"\n",
    "    \"\"\"\n",
    "    # --- initialization\n",
    "    button = False\n",
    "    res = defaultdict(list)\n",
    "    \n",
    "    # --- forward\n",
    "    for i,token in enumerate(statement):\n",
    "        \n",
    "        # --- \"over\"\n",
    "        if token.ttype == Keyword and token.value.lower() == 'over':\n",
    "            button = True\n",
    "            idx_button = i\n",
    "            continue\n",
    "            \n",
    "        # --- previously seen \"over\"\n",
    "        if button:\n",
    "            _res = {}\n",
    "            \n",
    "            if isinstance(token, Identifier):\n",
    "                _res['idx_context'] = i\n",
    "                _res['is_IdentifierList'] = False\n",
    "                button = False\n",
    "                \n",
    "            elif isinstance(token, IdentifierList):\n",
    "                _res['idx_context'] = i\n",
    "                _res['is_IdentifierList'] = True\n",
    "                button = False\n",
    "                \n",
    "            elif isinstance(token, Parenthesis):\n",
    "                _res['idx_context'] = i\n",
    "                _res['is_IdentifierList'] = False\n",
    "                button = False               \n",
    "                \n",
    "            # --- this token would be whitespace                \n",
    "            else:\n",
    "                continue\n",
    "                \n",
    "            # --- apppend only Identifier or IdentifierList                \n",
    "            res[idx_button].append(_res)\n",
    "            \n",
    "    # --- backward\n",
    "    for i,token in enumerate(statement[::-1]):\n",
    "        \n",
    "        # --- convert from backward intex to forward index\n",
    "        j = len(statement.tokens) - i - 1\n",
    "        \n",
    "        # --- \"target\"\n",
    "        if token.ttype == Keyword and token.value.lower() == 'over':\n",
    "            button = True\n",
    "            idx_button = j\n",
    "            continue\n",
    "            \n",
    "        # --- previously seen \"over\"\n",
    "        if button:\n",
    "            _res = {}\n",
    "            \n",
    "            if isinstance(token, Identifier):\n",
    "                _res['idx_function'] = j\n",
    "                _res['is_IdentifierList'] = False\n",
    "                button = False\n",
    "                \n",
    "            elif isinstance(token, IdentifierList):\n",
    "                _res['idx_function'] = j\n",
    "                _res['is_IdentifierList'] = True\n",
    "                button = False\n",
    "                \n",
    "            # --- this token would be whitespace                \n",
    "            else:\n",
    "                continue\n",
    "                \n",
    "            # --- apppend only Identifier or IdentifierList                \n",
    "            res[idx_button].append(_res)\n",
    "            \n",
    "    return dict(res)"
   ]
  },
  {
   "cell_type": "code",
   "execution_count": 4,
   "id": "04227e03-b36b-4dac-b82a-90ec078d66ef",
   "metadata": {},
   "outputs": [
    {
     "name": "stdout",
     "output_type": "stream",
     "text": [
      "SELECT\n",
      "    col1,\n",
      "    ROW_NUMBER() over (PARTITION BY col2 ORDER BY col3) AS col2_rownum,\n",
      "    col3,\n",
      "    lag(c2, c3) over (PARTITION BY col2 ORDER BY col3),  \n",
      "    col4,\n",
      "    las(c20, c30) over (PARTITION BY cast(col2 as timestamp) ORDER BY col3) AS col2_cast\n",
      "FROM\n",
      "    table1\n"
     ]
    }
   ],
   "source": [
    "tmp = \"\"\"\n",
    "SELECT\n",
    "    col1,\n",
    "    ROW_NUMBER() over (PARTITION BY col2 ORDER BY col3) AS col2_rownum,\n",
    "    col3,\n",
    "    lag(c2, c3) over (PARTITION BY col2 ORDER BY col3),  \n",
    "    col4,\n",
    "    las(c20, c30) over (PARTITION BY cast(col2 as timestamp) ORDER BY col3) AS col2_cast\n",
    "FROM\n",
    "    table1\n",
    "\"\"\"\n",
    "query = tmp.strip()\n",
    "print(query)"
   ]
  },
  {
   "cell_type": "code",
   "execution_count": 5,
   "id": "de60b9f8-9394-4dd3-96ba-8788312de20f",
   "metadata": {},
   "outputs": [],
   "source": [
    "stmt, = sqlparse.parse(query)"
   ]
  },
  {
   "cell_type": "code",
   "execution_count": 6,
   "id": "c260edad-84b4-4472-a778-a777fcf708c8",
   "metadata": {},
   "outputs": [
    {
     "data": {
      "text/plain": [
       "[<DML 'SELECT' at 0x7F8258256E80>,\n",
       " <Newline ' ' at 0x7F8288322D60>,\n",
       " <Whitespace ' ' at 0x7F8288322EE0>,\n",
       " <Whitespace ' ' at 0x7F8288322FA0>,\n",
       " <Whitespace ' ' at 0x7F8288322E20>,\n",
       " <Whitespace ' ' at 0x7F826864F2E0>,\n",
       " <IdentifierList 'col1, ...' at 0x7F8258272970>,\n",
       " <Whitespace ' ' at 0x7F8258286760>,\n",
       " <Keyword 'over' at 0x7F82582867C0>,\n",
       " <Whitespace ' ' at 0x7F8258286820>,\n",
       " <IdentifierList '(PARTI...' at 0x7F82582729E0>,\n",
       " <Whitespace ' ' at 0x7F82582875E0>,\n",
       " <Keyword 'over' at 0x7F8258287640>,\n",
       " <Whitespace ' ' at 0x7F82582876A0>,\n",
       " <Parenthesis '(PARTI...' at 0x7F825825DAC0>,\n",
       " <Punctuation ',' at 0x7F8258287B20>,\n",
       " <Whitespace ' ' at 0x7F8258287B80>,\n",
       " <Whitespace ' ' at 0x7F8258287BE0>,\n",
       " <Newline ' ' at 0x7F8258287C40>,\n",
       " <Whitespace ' ' at 0x7F8258287CA0>,\n",
       " <Whitespace ' ' at 0x7F8258287D00>,\n",
       " <Whitespace ' ' at 0x7F8258287D60>,\n",
       " <Whitespace ' ' at 0x7F8258287DC0>,\n",
       " <IdentifierList 'col4, ...' at 0x7F8258272B30>,\n",
       " <Whitespace ' ' at 0x7F82582663A0>,\n",
       " <Keyword 'over' at 0x7F8258266400>,\n",
       " <Whitespace ' ' at 0x7F8258266460>,\n",
       " <Identifier '(PARTI...' at 0x7F8258272900>,\n",
       " <Newline ' ' at 0x7F8258266D00>,\n",
       " <Keyword 'FROM' at 0x7F8258266D60>,\n",
       " <Newline ' ' at 0x7F8258266DC0>,\n",
       " <Whitespace ' ' at 0x7F8258266E20>,\n",
       " <Whitespace ' ' at 0x7F8258266E80>,\n",
       " <Whitespace ' ' at 0x7F8258266EE0>,\n",
       " <Whitespace ' ' at 0x7F8258266F40>,\n",
       " <Identifier 'table1' at 0x7F8258272740>]"
      ]
     },
     "execution_count": 6,
     "metadata": {},
     "output_type": "execute_result"
    }
   ],
   "source": [
    "tokens = stmt.tokens\n",
    "tokens"
   ]
  },
  {
   "cell_type": "code",
   "execution_count": 7,
   "id": "b2a3d19e-f729-4e6b-b6dc-84b873adb70c",
   "metadata": {},
   "outputs": [
    {
     "name": "stdout",
     "output_type": "stream",
     "text": [
      "- - - - - - - - - - - - - - - - - - - - \n",
      "0\n",
      "SELECT\n",
      "- - - - - - - - - - - - - - - - - - - - \n",
      "1\n",
      "\n",
      "\n",
      "- - - - - - - - - - - - - - - - - - - - \n",
      "2\n",
      " \n",
      "- - - - - - - - - - - - - - - - - - - - \n",
      "3\n",
      " \n",
      "- - - - - - - - - - - - - - - - - - - - \n",
      "4\n",
      " \n",
      "- - - - - - - - - - - - - - - - - - - - \n",
      "5\n",
      " \n",
      "- - - - - - - - - - - - - - - - - - - - \n",
      "6\n",
      "col1,\n",
      "    ROW_NUMBER()\n",
      "- - - - - - - - - - - - - - - - - - - - \n",
      "7\n",
      " \n",
      "- - - - - - - - - - - - - - - - - - - - \n",
      "8\n",
      "over\n",
      "- - - - - - - - - - - - - - - - - - - - \n",
      "9\n",
      " \n",
      "- - - - - - - - - - - - - - - - - - - - \n",
      "10\n",
      "(PARTITION BY col2 ORDER BY col3) AS col2_rownum,\n",
      "    col3,\n",
      "    lag(c2, c3)\n",
      "- - - - - - - - - - - - - - - - - - - - \n",
      "11\n",
      " \n",
      "- - - - - - - - - - - - - - - - - - - - \n",
      "12\n",
      "over\n",
      "- - - - - - - - - - - - - - - - - - - - \n",
      "13\n",
      " \n",
      "- - - - - - - - - - - - - - - - - - - - \n",
      "14\n",
      "(PARTITION BY col2 ORDER BY col3)\n",
      "- - - - - - - - - - - - - - - - - - - - \n",
      "15\n",
      ",\n",
      "- - - - - - - - - - - - - - - - - - - - \n",
      "16\n",
      " \n",
      "- - - - - - - - - - - - - - - - - - - - \n",
      "17\n",
      " \n",
      "- - - - - - - - - - - - - - - - - - - - \n",
      "18\n",
      "\n",
      "\n",
      "- - - - - - - - - - - - - - - - - - - - \n",
      "19\n",
      " \n",
      "- - - - - - - - - - - - - - - - - - - - \n",
      "20\n",
      " \n",
      "- - - - - - - - - - - - - - - - - - - - \n",
      "21\n",
      " \n",
      "- - - - - - - - - - - - - - - - - - - - \n",
      "22\n",
      " \n",
      "- - - - - - - - - - - - - - - - - - - - \n",
      "23\n",
      "col4,\n",
      "    las(c20, c30)\n",
      "- - - - - - - - - - - - - - - - - - - - \n",
      "24\n",
      " \n",
      "- - - - - - - - - - - - - - - - - - - - \n",
      "25\n",
      "over\n",
      "- - - - - - - - - - - - - - - - - - - - \n",
      "26\n",
      " \n",
      "- - - - - - - - - - - - - - - - - - - - \n",
      "27\n",
      "(PARTITION BY cast(col2 as timestamp) ORDER BY col3) AS col2_cast\n",
      "- - - - - - - - - - - - - - - - - - - - \n",
      "28\n",
      "\n",
      "\n",
      "- - - - - - - - - - - - - - - - - - - - \n",
      "29\n",
      "FROM\n",
      "- - - - - - - - - - - - - - - - - - - - \n",
      "30\n",
      "\n",
      "\n",
      "- - - - - - - - - - - - - - - - - - - - \n",
      "31\n",
      " \n",
      "- - - - - - - - - - - - - - - - - - - - \n",
      "32\n",
      " \n",
      "- - - - - - - - - - - - - - - - - - - - \n",
      "33\n",
      " \n",
      "- - - - - - - - - - - - - - - - - - - - \n",
      "34\n",
      " \n",
      "- - - - - - - - - - - - - - - - - - - - \n",
      "35\n",
      "table1\n"
     ]
    }
   ],
   "source": [
    "for i, token in enumerate(tokens):\n",
    "    print('- - '*10)\n",
    "    print(i)\n",
    "    print(token.value)"
   ]
  },
  {
   "cell_type": "code",
   "execution_count": 8,
   "id": "a5a6bde5-d398-4afb-a51d-3459501413fb",
   "metadata": {},
   "outputs": [
    {
     "data": {
      "text/plain": [
       "True"
      ]
     },
     "execution_count": 8,
     "metadata": {},
     "output_type": "execute_result"
    }
   ],
   "source": [
    "is_over_in_tokens(stmt)"
   ]
  },
  {
   "cell_type": "code",
   "execution_count": 9,
   "id": "a4b46754-c377-48c3-b6b0-9c49c1b217c9",
   "metadata": {},
   "outputs": [
    {
     "data": {
      "text/plain": [
       "{8: [{'idx_context': 10, 'is_IdentifierList': True},\n",
       "  {'idx_function': 6, 'is_IdentifierList': True}],\n",
       " 12: [{'idx_context': 14, 'is_IdentifierList': False},\n",
       "  {'idx_function': 10, 'is_IdentifierList': True}],\n",
       " 25: [{'idx_context': 27, 'is_IdentifierList': False},\n",
       "  {'idx_function': 23, 'is_IdentifierList': True}]}"
      ]
     },
     "execution_count": 9,
     "metadata": {},
     "output_type": "execute_result"
    }
   ],
   "source": [
    "res = retrieve_indices_over(stmt)\n",
    "res"
   ]
  },
  {
   "cell_type": "code",
   "execution_count": 10,
   "id": "93bb6691-80d3-43da-b9f4-fc1e7ee7f1a6",
   "metadata": {},
   "outputs": [
    {
     "name": "stdout",
     "output_type": "stream",
     "text": [
      "- - - - - - - - - - - - - - - - - - - - - - - - - - - - - - - - - - - - - - \n",
      "alias: col2_rownum\n",
      "(PARTITION BY col2 ORDER BY col3)\n",
      "function_name: ROW_NUMBER\n",
      "- - - - - - - - - - - - - - - - - - - - - - - - - - - - - - - - - - - - - - \n",
      "alias: None\n",
      "(PARTITION BY col2 ORDER BY col3)\n",
      "function_name: lag\n",
      "parameter: c2\n",
      "parameter: c3\n",
      "- - - - - - - - - - - - - - - - - - - - - - - - - - - - - - - - - - - - - - \n",
      "alias: col2_cast\n",
      "(PARTITION BY cast(col2 as timestamp) ORDER BY col3)\n",
      "function_name: las\n",
      "parameter: c20\n",
      "parameter: c30\n"
     ]
    }
   ],
   "source": [
    "for idx_over in res:\n",
    "    \n",
    "    _res = res[idx_over]\n",
    "    \n",
    "    print('- - '*19)\n",
    "    \n",
    "    for item in _res:\n",
    "        \n",
    "        if 'idx_function' in item:\n",
    "            \n",
    "            if item['is_IdentifierList']:      \n",
    "                token_function = tokens[ item['idx_function'] ].tokens[-1]\n",
    "            else:\n",
    "                token_function = tokens[ item['idx_function'] ] \n",
    "                \n",
    "            print(f'function_name: {token_function.get_name()}')\n",
    "            \n",
    "            for tmp in token_function.get_parameters():\n",
    "                print(f'parameter: {tmp.value}')\n",
    "            \n",
    "                \n",
    "        elif 'idx_context' in item:\n",
    "            \n",
    "#             print(tokens[ item['idx_context'] ])\n",
    "#             print('-. -. '*10)\n",
    "#             print(tokens[ item['idx_context'] ].tokens)\n",
    "#             print('=. =. '*10)\n",
    "            \n",
    "            if item['is_IdentifierList']:\n",
    "                token_context = tokens[ item['idx_context'] ].tokens[0]\n",
    "            else:\n",
    "                token_context = tokens[ item['idx_context'] ]  \n",
    "                \n",
    "            alias = token_context.get_alias()\n",
    "            \n",
    "            print(f'alias: {alias}')\n",
    "\n",
    "            if alias == None:\n",
    "                print(token_context.value)\n",
    "            else:\n",
    "                print(token_context.tokens[0].value)\n"
   ]
  },
  {
   "cell_type": "code",
   "execution_count": 18,
   "id": "b81c1afd-12ff-40cb-a3bc-2fdedebe9dc9",
   "metadata": {},
   "outputs": [
    {
     "data": {
      "text/plain": [
       "{'column_name': None}"
      ]
     },
     "execution_count": 18,
     "metadata": {},
     "output_type": "execute_result"
    }
   ],
   "source": [
    "retrievals.retrieve_column_metadata_in_select(token_context.tokens[0])"
   ]
  },
  {
   "cell_type": "code",
   "execution_count": 19,
   "id": "5a445bea-cdc0-4373-8f75-2722370e5ade",
   "metadata": {},
   "outputs": [],
   "source": [
    "a = token_context.tokens[0]"
   ]
  },
  {
   "cell_type": "code",
   "execution_count": 23,
   "id": "a6d79a0e-92b0-4890-bb09-49fc67b912b6",
   "metadata": {},
   "outputs": [
    {
     "data": {
      "text/plain": [
       "{'function': 'cast', 'value': 'cast(col2 as timestamp)', 'is_function': True}"
      ]
     },
     "execution_count": 23,
     "metadata": {},
     "output_type": "execute_result"
    }
   ],
   "source": [
    "retrievals.retrieve_column_metadata_in_select(a.tokens[5])"
   ]
  },
  {
   "cell_type": "code",
   "execution_count": 29,
   "id": "c93e8c4d-eefd-4729-b666-6a09e8d078e4",
   "metadata": {},
   "outputs": [
    {
     "data": {
      "text/plain": [
       "[<Identifier 'cast' at 0x7F8258272430>,\n",
       " <Parenthesis '(col2 ...' at 0x7F825825DBA0>]"
      ]
     },
     "execution_count": 29,
     "metadata": {},
     "output_type": "execute_result"
    }
   ],
   "source": [
    "a.tokens[5].tokens"
   ]
  },
  {
   "cell_type": "code",
   "execution_count": 31,
   "id": "96e17927-895f-44f4-8d51-2b6be4785486",
   "metadata": {},
   "outputs": [
    {
     "data": {
      "text/plain": [
       "<Identifier 'col3' at 0x7F8258272350>"
      ]
     },
     "execution_count": 31,
     "metadata": {},
     "output_type": "execute_result"
    }
   ],
   "source": [
    "a.tokens[9]"
   ]
  },
  {
   "cell_type": "code",
   "execution_count": 32,
   "id": "a85f64c5-845e-4aee-bb4e-96d6e78f4990",
   "metadata": {},
   "outputs": [
    {
     "data": {
      "text/plain": [
       "'(PARTITION BY cast(col2 as timestamp) ORDER BY col3)'"
      ]
     },
     "execution_count": 32,
     "metadata": {},
     "output_type": "execute_result"
    }
   ],
   "source": [
    "a.value"
   ]
  },
  {
   "cell_type": "code",
   "execution_count": 37,
   "id": "1c95bb7f-a2d7-4dfe-b1ea-915c19daa9f1",
   "metadata": {},
   "outputs": [],
   "source": [
    "b = a.tokens[5].get_parameters()[0]"
   ]
  },
  {
   "cell_type": "code",
   "execution_count": 39,
   "id": "57d78f57-0ca9-40f6-b27e-d09fbb4ec1f4",
   "metadata": {},
   "outputs": [
    {
     "data": {
      "text/plain": [
       "'timestamp'"
      ]
     },
     "execution_count": 39,
     "metadata": {},
     "output_type": "execute_result"
    }
   ],
   "source": [
    "b.get_name()"
   ]
  },
  {
   "cell_type": "code",
   "execution_count": 41,
   "id": "a621de0c-c9ca-4708-aa93-10ce04eb8790",
   "metadata": {},
   "outputs": [],
   "source": [
    "b."
   ]
  },
  {
   "cell_type": "code",
   "execution_count": null,
   "id": "28775d6c-eba6-4754-9c38-98f39a3d8c1a",
   "metadata": {},
   "outputs": [],
   "source": []
  },
  {
   "cell_type": "code",
   "execution_count": null,
   "id": "d04a0228-180e-4132-9039-198402bbb6b6",
   "metadata": {},
   "outputs": [],
   "source": []
  },
  {
   "cell_type": "code",
   "execution_count": null,
   "id": "4281f135-7346-4d93-8965-1aad98f4097d",
   "metadata": {},
   "outputs": [],
   "source": []
  },
  {
   "cell_type": "code",
   "execution_count": null,
   "id": "250c28ac-0fcb-446c-9629-35259d72823c",
   "metadata": {},
   "outputs": [],
   "source": []
  },
  {
   "cell_type": "code",
   "execution_count": 4,
   "id": "60260ece-a18d-4516-978c-618de5818530",
   "metadata": {},
   "outputs": [],
   "source": [
    "_res = utils.preprocess_sql_query(tmp)"
   ]
  },
  {
   "cell_type": "code",
   "execution_count": 5,
   "id": "5d2723aa-3423-433e-9154-772e635d54d3",
   "metadata": {},
   "outputs": [],
   "source": [
    "stmt = _res[1]"
   ]
  },
  {
   "cell_type": "code",
   "execution_count": 6,
   "id": "026568db-6910-4d2d-bac8-9a6d654484fb",
   "metadata": {},
   "outputs": [],
   "source": [
    "for i,token in enumerate(stmt.tokens):\n",
    "    gmhq.mark_known_tokens(token)\n",
    "    \n",
    "#     try:\n",
    "#         gmhq.analyse_token(token)\n",
    "#     except:\n",
    "#         print(token.value)\n",
    "    gmhq.analyse_token(token)"
   ]
  },
  {
   "cell_type": "code",
   "execution_count": 7,
   "id": "34b33f79-a8a1-4003-8671-5c1b532fff1f",
   "metadata": {},
   "outputs": [
    {
     "ename": "SyntaxError",
     "evalue": "unexpected EOF while parsing (<ipython-input-7-89a54c6cfe09>, line 8)",
     "output_type": "error",
     "traceback": [
      "\u001b[0;36m  File \u001b[0;32m\"<ipython-input-7-89a54c6cfe09>\"\u001b[0;36m, line \u001b[0;32m8\u001b[0m\n\u001b[0;31m    \u001b[0m\n\u001b[0m    ^\u001b[0m\n\u001b[0;31mSyntaxError\u001b[0m\u001b[0;31m:\u001b[0m unexpected EOF while parsing\n"
     ]
    }
   ],
   "source": [
    "stmt = _res[0]['statement']\n",
    "\n",
    "# --- prepare output\n",
    "result = {\n",
    "        'query': _res[idx_query]['query'],\n",
    "        'statement': stmt,\n",
    "        'metadata_lines': _res[idx_query]['metadata_lines'],\n",
    "           "
   ]
  },
  {
   "cell_type": "code",
   "execution_count": 8,
   "id": "58e1a244-556c-46f2-bc32-b1a7951173b0",
   "metadata": {},
   "outputs": [
    {
     "data": {
      "text/plain": [
       "[{'token': 'select',\n",
       "  'type': 'column',\n",
       "  'value': 'col1 as a.col1_alias',\n",
       "  'metadata': {'column_name': 'col1_alias',\n",
       "   'column_name_before_rename': 'col1'}},\n",
       " {'token': 'FROM',\n",
       "  'type': 'table',\n",
       "  'value': 'table1',\n",
       "  'metadata': {'schema_name': None,\n",
       "   'table_name': 'table1',\n",
       "   'table_alias': None}}]"
      ]
     },
     "execution_count": 8,
     "metadata": {},
     "output_type": "execute_result"
    }
   ],
   "source": [
    "gmhq.analyse_query(stmt)"
   ]
  },
  {
   "cell_type": "code",
   "execution_count": null,
   "id": "87049b81-b409-4aad-9854-d17b9159f5a1",
   "metadata": {},
   "outputs": [],
   "source": []
  },
  {
   "cell_type": "code",
   "execution_count": null,
   "id": "8a3558b8-e722-4423-a81e-3a1fdf56520b",
   "metadata": {},
   "outputs": [],
   "source": [
    "\n",
    "            "
   ]
  },
  {
   "cell_type": "code",
   "execution_count": null,
   "id": "830ae8c9-3b35-47ea-a3d5-8041cacaf55f",
   "metadata": {},
   "outputs": [],
   "source": []
  },
  {
   "cell_type": "code",
   "execution_count": null,
   "id": "451989bd-3f15-472a-b5ec-f54ad6e978e3",
   "metadata": {},
   "outputs": [],
   "source": []
  },
  {
   "cell_type": "code",
   "execution_count": 2,
   "id": "9e22e265-d72d-43e8-b534-d000b6de969b",
   "metadata": {},
   "outputs": [],
   "source": [
    "idx_query = 0"
   ]
  },
  {
   "cell_type": "code",
   "execution_count": 3,
   "id": "a19b0b73-ad05-4de7-8b34-8049d91fba6b",
   "metadata": {},
   "outputs": [],
   "source": [
    "file_path = './data/test.sql'"
   ]
  },
  {
   "cell_type": "code",
   "execution_count": 4,
   "id": "133ec1d3-4b0b-4511-906e-c949fabdc255",
   "metadata": {},
   "outputs": [],
   "source": [
    "result = generate_metadata_from_hive_query(\n",
    "    file_path = file_path,\n",
    "    idx_query = idx_query\n",
    ")"
   ]
  },
  {
   "cell_type": "code",
   "execution_count": 5,
   "id": "0c90f508-d755-46c8-93dd-e63ecb3ff13d",
   "metadata": {},
   "outputs": [
    {
     "name": "stdout",
     "output_type": "stream",
     "text": [
      "CREATE TABLE schema.ta AS\n",
      "SELECT c4.cid,\n",
      "       c4.cis,\n",
      "       c4.dsc,\n",
      "       c4.ctcpty,\n",
      "       c4.stts,\n",
      "       c4.edts\n",
      "FROM\n",
      "  (SELECT c3.cid,\n",
      "          c3.cis,\n",
      "          c3.dsc,\n",
      "          c3.ctcpty,\n",
      "          c3.mstts,\n",
      "          c3.edts,\n",
      "          lag(c3.mstts) OVER (PARTITION BY c3.cid,\n",
      "                                           c3.cis,\n",
      "                                           c3.dsc\n",
      "                              ORDER BY c3.mstts) stts,\n",
      "                             rownumber%2 AS rownumber_mod_2\n",
      "   FROM\n",
      "     (SELECT c2.cid,\n",
      "             c2.cis,\n",
      "             c2.dsc,\n",
      "             c2.ctcpty,\n",
      "             c2.mstts,\n",
      "             c2.edts,\n",
      "             row_number() OVER (PARTITION BY c2.cid,\n",
      "                                             c2.cis,\n",
      "                                             c2.dsc\n",
      "                                ORDER BY c2.mstts) rownumber\n",
      "      FROM\n",
      "        (SELECT DISTINCT c1.cid,\n",
      "                         c1.cis,\n",
      "                         c1.dsc,\n",
      "                         c1.ctcpty,\n",
      "                         c1.edts,\n",
      "                         c1.mstts,\n",
      "                         IF (c1.ctcpty = lag(c1.ctcpty) OVER (PARTITION BY c1.cid,\n",
      "                                                                           c1.cis,\n",
      "                                                                           c1.dsc\n",
      "                                                              ORDER BY c1.mstts), NULL,\n",
      "                                                                                  'Y') flag_wrt_begin_asc,\n",
      "                            IF (c1.ctcpty = lag(c1.ctcpty) OVER (PARTITION BY c1.cid,\n",
      "                                                                              c1.cis,\n",
      "                                                                              c1.dsc\n",
      "                                                                 ORDER BY c1.mstts DESC), NULL,\n",
      "                                                                                          'Y') flag_wrt_begin_desc\n",
      "         FROM\n",
      "           (SELECT DISTINCT bcm.cid,\n",
      "                            bcm.cis,\n",
      "                            bcm.dsc,\n",
      "                            nvl(bcm.ctcpty, 'NA') ctcpty,\n",
      "                            bcm.mstts,\n",
      "                            bcm.edts\n",
      "            FROM schama.bcc bcm\n",
      "            WHERE cis != 'CCC'\n",
      "              AND ctcp_cd_nk = 'BBB' ) c1) c2\n",
      "      WHERE ((c2.flag_wrt_begin_asc = 'Y'\n",
      "              AND c2.flag_wrt_begin_desc IS NULL)\n",
      "             OR (c2.flag_wrt_begin_desc = 'Y'\n",
      "                 AND c2.flag_wrt_begin_asc IS NULL)) ) c3) c4\n",
      "WHERE c4.rownumber_mod_2 = 0\n",
      "UNION ALL\n",
      "SELECT c2.cid,\n",
      "       c2.cis,\n",
      "       c2.dsc,\n",
      "       c2.ctcpty,\n",
      "       c2.mstts stts,\n",
      "       c2.edts cnt_cmptp_end_ts\n",
      "FROM\n",
      "  (SELECT DISTINCT c1.cid,\n",
      "                   c1.cis,\n",
      "                   c1.dsc,\n",
      "                   c1.ctcpty,\n",
      "                   c1.edts,\n",
      "                   c1.mstts,\n",
      "                   IF (c1.ctcpty = lag(c1.ctcpty) OVER (PARTITION BY c1.cid,\n",
      "                                                                     c1.cis,\n",
      "                                                                     c1.dsc\n",
      "                                                        ORDER BY c1.mstts), NULL,\n",
      "                                                                            'Y') flag_wrt_begin_asc,\n",
      "                      IF (c1.ctcpty = lag(c1.ctcpty) OVER (PARTITION BY c1.cid,\n",
      "                                                                        c1.cis,\n",
      "                                                                        c1.dsc\n",
      "                                                           ORDER BY c1.mstts DESC), NULL,\n",
      "                                                                                    'Y') flag_wrt_begin_desc\n",
      "   FROM\n",
      "     (SELECT DISTINCT bcm.cid,\n",
      "                      bcm.cis,\n",
      "                      bcm.dsc,\n",
      "                      nvl(bcm.ctcpty, 'NA') ctcpty,\n",
      "                      bcm.mstts,\n",
      "                      bcm.edts\n",
      "      FROM tenant_insurance_cdsaimrd.brg_cnt_component bcm\n",
      "      WHERE cis != 'CCC'\n",
      "        AND ctcp_cd_nk = 'BBB' ) c1) c2\n",
      "WHERE (c2.flag_wrt_begin_asc = 'Y'\n",
      "       AND c2.flag_wrt_begin_desc = 'Y')\n"
     ]
    }
   ],
   "source": [
    "print(result[idx_query]['query'])"
   ]
  },
  {
   "cell_type": "code",
   "execution_count": 6,
   "id": "4513f4e6-bb26-493c-925e-8d161bcde538",
   "metadata": {},
   "outputs": [
    {
     "name": "stdout",
     "output_type": "stream",
     "text": [
      "{'token': 'create', 'type': 'table', 'value': 'schema.ta', 'metadta': {'schema_name': 'schema', 'table_name': 'ta', 'table_alias': None}}\n",
      "{'token': 'select', 'type': 'column', 'value': 'c4.cid', 'metadata': {'column_name': 'cid', 'table_alias': 'c4'}}\n",
      "{'token': 'select', 'type': 'column', 'value': 'c4.cis', 'metadata': {'column_name': 'cis', 'table_alias': 'c4'}}\n",
      "{'token': 'select', 'type': 'column', 'value': 'c4.dsc', 'metadata': {'column_name': 'dsc', 'table_alias': 'c4'}}\n",
      "{'token': 'select', 'type': 'column', 'value': 'c4.ctcpty', 'metadata': {'column_name': 'ctcpty', 'table_alias': 'c4'}}\n",
      "{'token': 'select', 'type': 'column', 'value': 'c4.stts', 'metadata': {'column_name': 'stts', 'table_alias': 'c4'}}\n",
      "{'token': 'select', 'type': 'column', 'value': 'c4.edts', 'metadata': {'column_name': 'edts', 'table_alias': 'c4'}}\n",
      "{'token': 'FROM', 'type': 'subquery', 'value': [{'token': 'select', 'type': 'column', 'value': 'c3.cid', 'metadata': {'column_name': 'cid', 'table_alias': 'c3'}}, {'token': 'select', 'type': 'column', 'value': 'c3.cis', 'metadata': {'column_name': 'cis', 'table_alias': 'c3'}}, {'token': 'select', 'type': 'column', 'value': 'c3.dsc', 'metadata': {'column_name': 'dsc', 'table_alias': 'c3'}}, {'token': 'select', 'type': 'column', 'value': 'c3.ctcpty', 'metadata': {'column_name': 'ctcpty', 'table_alias': 'c3'}}, {'token': 'select', 'type': 'column', 'value': 'c3.mstts', 'metadata': {'column_name': 'mstts', 'table_alias': 'c3'}}, {'token': 'select', 'type': 'column', 'value': 'c3.edts', 'metadata': {'column_name': 'edts', 'table_alias': 'c3'}}, {'token': 'select', 'type': 'column', 'value': 'lag(c3.mstts)', 'metadata': {'function': 'lag', 'value': 'lag(c3.mstts)', 'is_function': True}}, {'token': 'select', 'type': 'column', 'value': '(partition by c3.cid, c3.cis, c3.dsc order by c3.mstts) stts', 'metadata': {'column_name': 'stts', 'is_partition_condition': True}}, {'token': 'select', 'type': 'column', 'value': 'rownumber%2 as rownumber_mod_2', 'metadata': {'column_name': 'rownumber_mod_2', 'is_partition_condition': True}}, {'token': 'FROM', 'type': 'subquery', 'value': [{'token': 'select', 'type': 'column', 'value': 'c2.cid', 'metadata': {'column_name': 'cid', 'table_alias': 'c2'}}, {'token': 'select', 'type': 'column', 'value': 'c2.cis', 'metadata': {'column_name': 'cis', 'table_alias': 'c2'}}, {'token': 'select', 'type': 'column', 'value': 'c2.dsc', 'metadata': {'column_name': 'dsc', 'table_alias': 'c2'}}, {'token': 'select', 'type': 'column', 'value': 'c2.ctcpty', 'metadata': {'column_name': 'ctcpty', 'table_alias': 'c2'}}, {'token': 'select', 'type': 'column', 'value': 'c2.mstts', 'metadata': {'column_name': 'mstts', 'table_alias': 'c2'}}, {'token': 'select', 'type': 'column', 'value': 'c2.edts', 'metadata': {'column_name': 'edts', 'table_alias': 'c2'}}, {'token': 'select', 'type': 'column', 'value': 'row_number()', 'metadata': {'function': 'row_number', 'value': 'row_number()', 'is_function': True}}, {'token': 'FROM', 'type': 'subquery', 'value': [{'token': 'select', 'type': 'column', 'value': 'c1.cid', 'metadata': {'column_name': 'cid', 'table_alias': 'c1'}}, {'token': 'select', 'type': 'column', 'value': 'c1.cis', 'metadata': {'column_name': 'cis', 'table_alias': 'c1'}}, {'token': 'select', 'type': 'column', 'value': 'c1.dsc', 'metadata': {'column_name': 'dsc', 'table_alias': 'c1'}}, {'token': 'select', 'type': 'column', 'value': 'c1.ctcpty', 'metadata': {'column_name': 'ctcpty', 'table_alias': 'c1'}}, {'token': 'select', 'type': 'column', 'value': 'c1.edts', 'metadata': {'column_name': 'edts', 'table_alias': 'c1'}}, {'token': 'select', 'type': 'column', 'value': 'c1.mstts', 'metadata': {'column_name': 'mstts', 'table_alias': 'c1'}}, {'token': 'select', 'type': 'column', 'value': 'if', 'is_function': True}, {'token': 'select', 'type': 'if', 'value': \"( c1.ctcpty = lag(c1.ctcpty) over (partition by c1.cid, c1.cis, c1.dsc order by c1.mstts), NULL, 'Y' ) flag_wrt_begin_asc\"}, {'token': 'select', 'type': 'if'}, {'token': 'select', 'type': 'if', 'value': \"( c1.ctcpty = lag(c1.ctcpty) over (partition by c1.cid, c1.cis, c1.dsc order by c1.mstts desc), NULL, 'Y' ) flag_wrt_begin_desc\"}, {'token': 'FROM', 'type': 'subquery', 'value': [{'token': 'select', 'type': 'column', 'value': 'bcm.cid', 'metadata': {'column_name': 'cid', 'table_alias': 'bcm'}}, {'token': 'select', 'type': 'column', 'value': 'bcm.cis', 'metadata': {'column_name': 'cis', 'table_alias': 'bcm'}}, {'token': 'select', 'type': 'column', 'value': 'bcm.dsc', 'metadata': {'column_name': 'dsc', 'table_alias': 'bcm'}}, {'token': 'select', 'type': 'column', 'value': \"nvl(bcm.ctcpty,'NA') ctcpty\", 'metadata': {'column_name': 'ctcpty', 'is_function': True}}, {'token': 'select', 'type': 'column', 'value': 'bcm.mstts', 'metadata': {'column_name': 'mstts', 'table_alias': 'bcm'}}, {'token': 'select', 'type': 'column', 'value': 'bcm.edts', 'metadata': {'column_name': 'edts', 'table_alias': 'bcm'}}, {'token': 'FROM', 'type': 'table', 'value': 'schama.bcc bcm', 'metadata': {'schema_name': 'schama', 'table_name': 'bcc', 'table_alias': 'bcm'}}], 'alias': 'c1'}], 'alias': 'c2'}], 'alias': 'c3'}], 'alias': 'c4'}\n",
      "{'token': 'select', 'type': 'column', 'value': 'c2.cid', 'metadata': {'column_name': 'cid', 'table_alias': 'c2'}}\n",
      "{'token': 'select', 'type': 'column', 'value': 'c2.cis', 'metadata': {'column_name': 'cis', 'table_alias': 'c2'}}\n",
      "{'token': 'select', 'type': 'column', 'value': 'c2.dsc', 'metadata': {'column_name': 'dsc', 'table_alias': 'c2'}}\n",
      "{'token': 'select', 'type': 'column', 'value': 'c2.ctcpty', 'metadata': {'column_name': 'ctcpty', 'table_alias': 'c2'}}\n",
      "{'token': 'select', 'type': 'column', 'value': 'c2.mstts stts', 'metadata': {'column_name': 'stts', 'column_name_before_rename': 'mstts', 'table_alias': 'c2'}}\n",
      "{'token': 'select', 'type': 'column', 'value': 'c2.edts cnt_cmptp_end_ts', 'metadata': {'column_name': 'cnt_cmptp_end_ts', 'column_name_before_rename': 'edts', 'table_alias': 'c2'}}\n",
      "{'token': 'FROM', 'type': 'subquery', 'value': [{'token': 'select', 'type': 'column', 'value': 'c1.cid', 'metadata': {'column_name': 'cid', 'table_alias': 'c1'}}, {'token': 'select', 'type': 'column', 'value': 'c1.cis', 'metadata': {'column_name': 'cis', 'table_alias': 'c1'}}, {'token': 'select', 'type': 'column', 'value': 'c1.dsc', 'metadata': {'column_name': 'dsc', 'table_alias': 'c1'}}, {'token': 'select', 'type': 'column', 'value': 'c1.ctcpty', 'metadata': {'column_name': 'ctcpty', 'table_alias': 'c1'}}, {'token': 'select', 'type': 'column', 'value': 'c1.edts', 'metadata': {'column_name': 'edts', 'table_alias': 'c1'}}, {'token': 'select', 'type': 'column', 'value': 'c1.mstts', 'metadata': {'column_name': 'mstts', 'table_alias': 'c1'}}, {'token': 'select', 'type': 'column', 'value': 'if', 'is_function': True}, {'token': 'select', 'type': 'if', 'value': \"( c1.ctcpty = lag(c1.ctcpty) over (partition by c1.cid, c1.cis, c1.dsc order by c1.mstts), NULL, 'Y' ) flag_wrt_begin_asc\"}, {'token': 'select', 'type': 'if'}, {'token': 'select', 'type': 'if', 'value': \"( c1.ctcpty = lag(c1.ctcpty) over (partition by c1.cid, c1.cis, c1.dsc order by c1.mstts desc), NULL, 'Y' ) flag_wrt_begin_desc\"}, {'token': 'FROM', 'type': 'subquery', 'value': [{'token': 'select', 'type': 'column', 'value': 'bcm.cid', 'metadata': {'column_name': 'cid', 'table_alias': 'bcm'}}, {'token': 'select', 'type': 'column', 'value': 'bcm.cis', 'metadata': {'column_name': 'cis', 'table_alias': 'bcm'}}, {'token': 'select', 'type': 'column', 'value': 'bcm.dsc', 'metadata': {'column_name': 'dsc', 'table_alias': 'bcm'}}, {'token': 'select', 'type': 'column', 'value': \"nvl(bcm.ctcpty,'NA') ctcpty\", 'metadata': {'column_name': 'ctcpty', 'is_function': True}}, {'token': 'select', 'type': 'column', 'value': 'bcm.mstts', 'metadata': {'column_name': 'mstts', 'table_alias': 'bcm'}}, {'token': 'select', 'type': 'column', 'value': 'bcm.edts', 'metadata': {'column_name': 'edts', 'table_alias': 'bcm'}}, {'token': 'FROM', 'type': 'table', 'value': 'tenant_insurance_cdsaimrd.brg_cnt_component bcm', 'metadata': {'schema_name': 'tenant_insurance_cdsaimrd', 'table_name': 'brg_cnt_component', 'table_alias': 'bcm'}}], 'alias': 'c1'}], 'alias': 'c2'}\n"
     ]
    }
   ],
   "source": [
    "for item in result[idx_query]['metadata_query']:\n",
    "    print(item)"
   ]
  },
  {
   "cell_type": "markdown",
   "id": "67a8b3bf-802a-415c-970a-4f8c51c7faf7",
   "metadata": {},
   "source": [
    "# ----"
   ]
  },
  {
   "cell_type": "code",
   "execution_count": 7,
   "id": "0e99fddb-e71d-436f-b37b-4da2d41ad35c",
   "metadata": {},
   "outputs": [],
   "source": [
    "file_path = './data/test.sql'"
   ]
  },
  {
   "cell_type": "code",
   "execution_count": 8,
   "id": "addab8fe-99f9-4ade-baac-09a20b8b9b7f",
   "metadata": {},
   "outputs": [],
   "source": [
    "result = generate_metadata_from_hive_query(\n",
    "    file_path = file_path,\n",
    "    idx_query = 0\n",
    ")"
   ]
  },
  {
   "cell_type": "code",
   "execution_count": null,
   "id": "c145b68c-3336-4b2f-b25d-da58b40824a1",
   "metadata": {},
   "outputs": [],
   "source": []
  },
  {
   "cell_type": "code",
   "execution_count": 9,
   "id": "90b6b5d1-c491-41a0-b1fc-a1798a8d33dc",
   "metadata": {},
   "outputs": [],
   "source": [
    "from src.MetadataGeneratorHiveQuery import Processes, GenerateMetadataHiveQueries, Utilities\n",
    "from src.MetadataGeneratorHiveQuery import generate_metadata_from_hive_query\n",
    "import sqlparse"
   ]
  },
  {
   "cell_type": "code",
   "execution_count": 10,
   "id": "839d4867-e7b4-400f-8912-88d737bb034b",
   "metadata": {},
   "outputs": [],
   "source": [
    "pros = Processes()\n",
    "parser = GenerateMetadataHiveQueries()"
   ]
  },
  {
   "cell_type": "code",
   "execution_count": 11,
   "id": "fabb6ab3-1abe-4954-b7c7-435fa09c5638",
   "metadata": {},
   "outputs": [],
   "source": [
    "file_path = './data/test.sql'\n",
    "idx_query = 0\n",
    "\n",
    "# file_path = './data/sample.sql'\n",
    "# idx_query = 0"
   ]
  },
  {
   "cell_type": "code",
   "execution_count": 12,
   "id": "7f6945f5-bbbd-4868-ab84-0a3f726b651e",
   "metadata": {},
   "outputs": [],
   "source": [
    "_res = parser.preprocess_sql_queries(parser.read_sql_file(file_path))\n",
    "\n",
    "stmt = _res[idx_query]['statement']"
   ]
  },
  {
   "cell_type": "code",
   "execution_count": 13,
   "id": "22b2c4e5-af42-4275-9a6f-3931c53bdf1e",
   "metadata": {},
   "outputs": [
    {
     "data": {
      "text/plain": [
       "[<DDL 'create' at 0x7FC05820B2E0>,\n",
       " <Whitespace ' ' at 0x7FC0581E1580>,\n",
       " <Keyword 'table' at 0x7FC0581F6220>,\n",
       " <Whitespace ' ' at 0x7FC0581F6280>,\n",
       " <Identifier 'schema...' at 0x7FC0B8139120>,\n",
       " <Whitespace ' ' at 0x7FC0581F6400>,\n",
       " <Keyword 'as' at 0x7FC0581F6460>,\n",
       " <Newline ' ' at 0x7FC0581F64C0>,\n",
       " <DML 'select' at 0x7FC0581F6580>,\n",
       " <Newline ' ' at 0x7FC0581F65E0>,\n",
       " <IdentifierList 'c4.cid...' at 0x7FC0B8142900>,\n",
       " <Newline ' ' at 0x7FC0581F30A0>,\n",
       " <Keyword 'from' at 0x7FC0581F3100>,\n",
       " <Newline ' ' at 0x7FC0581F3160>,\n",
       " <Identifier '( sele...' at 0x7FC0B8142270>,\n",
       " <Newline ' ' at 0x7FC0B812D640>,\n",
       " <Where 'where ...' at 0x7FC0581EFF20>,\n",
       " <Keyword 'union ...' at 0x7FC0B812DA60>,\n",
       " <Newline ' ' at 0x7FC0B812DAC0>,\n",
       " <Newline ' ' at 0x7FC0B812DB20>,\n",
       " <DML 'select' at 0x7FC0B812DB80>,\n",
       " <Newline ' ' at 0x7FC0B812DBE0>,\n",
       " <IdentifierList 'c2.cid...' at 0x7FC0B8142EB0>,\n",
       " <Newline ' ' at 0x7FC0B812E880>,\n",
       " <Keyword 'from' at 0x7FC0B812E8E0>,\n",
       " <Newline ' ' at 0x7FC0B812E940>,\n",
       " <Identifier '( sele...' at 0x7FC0B8142740>,\n",
       " <Newline ' ' at 0x7FC0B8135EE0>,\n",
       " <Where 'where ...' at 0x7FC0B81394A0>]"
      ]
     },
     "execution_count": 13,
     "metadata": {},
     "output_type": "execute_result"
    }
   ],
   "source": [
    "tokens = stmt.tokens\n",
    "tokens"
   ]
  },
  {
   "cell_type": "code",
   "execution_count": 14,
   "id": "9a673a9d-1bfc-46ce-8ed0-bfe0dfb1d2d0",
   "metadata": {},
   "outputs": [
    {
     "data": {
      "text/plain": [
       "\"(\\nselect\\nc3.cid, c3.cis, c3.dsc,\\nc3.ctcpty,\\nc3.mstts,\\nc3.edts,\\nlag(c3.mstts) over (partition by c3.cid, c3.cis, c3.dsc order by c3.mstts) stts,\\nrownumber%2 as rownumber_mod_2\\nfrom\\n(\\nselect\\nc2.cid, c2.cis, c2.dsc,\\nc2.ctcpty,\\nc2.mstts,\\nc2.edts,\\nrow_number() over (partition by c2.cid, c2.cis, c2.dsc order by c2.mstts) rownumber\\nfrom\\n(\\nselect\\ndistinct\\nc1.cid, c1.cis, c1.dsc,\\nc1.ctcpty,\\nc1.edts,\\nc1.mstts\\n,if\\n(\\nc1.ctcpty = lag(c1.ctcpty) over (partition by c1.cid, c1.cis, c1.dsc order by c1.mstts),\\nNULL, 'Y'\\n) flag_wrt_begin_asc\\n,if\\n(\\nc1.ctcpty = lag(c1.ctcpty) over (partition by c1.cid, c1.cis, c1.dsc order by c1.mstts desc),\\nNULL, 'Y'\\n) flag_wrt_begin_desc\\nfrom\\n(\\nselect\\ndistinct\\nbcm.cid, bcm.cis, bcm.dsc,\\nnvl(bcm.ctcpty,'NA') ctcpty,\\nbcm.mstts,\\nbcm.edts\\nfrom\\nschama.bcc bcm\\nwhere\\ncis != 'CCC' and ctcp_cd_nk = 'BBB'\\n) c1\\n) c2\\nwhere\\n(\\n(c2.flag_wrt_begin_asc = 'Y' and c2.flag_wrt_begin_desc is null)\\nor (c2.flag_wrt_begin_desc = 'Y' and c2.flag_wrt_begin_asc is null)\\n)\\n) c3\\n) c4\""
      ]
     },
     "execution_count": 14,
     "metadata": {},
     "output_type": "execute_result"
    }
   ],
   "source": [
    "tokens[14].value"
   ]
  },
  {
   "cell_type": "code",
   "execution_count": 15,
   "id": "4115ea37-12d7-4089-b03a-6a1819ee4327",
   "metadata": {},
   "outputs": [],
   "source": [
    "res = []\n",
    "tokens = stmt.tokens\n",
    "idx = -1\n",
    "\n",
    "while idx < len(tokens) - 1:\n",
    "    idx += 1\n",
    "    token = tokens[idx]\n",
    "\n",
    "    # --- scan token\n",
    "    pros.scan_known_tokens(token)\n",
    "    \n",
    "    try:\n",
    "        tmp = parser.analyse_token(token)\n",
    "    except:\n",
    "        print(token.value)\n",
    "\n",
    "    res.extend( parser.analyse_token(token) )\n",
    "\n"
   ]
  },
  {
   "cell_type": "code",
   "execution_count": 16,
   "id": "84c78f31-28cc-44f0-a031-316a95b7c831",
   "metadata": {},
   "outputs": [
    {
     "data": {
      "text/plain": [
       "[]"
      ]
     },
     "execution_count": 16,
     "metadata": {},
     "output_type": "execute_result"
    }
   ],
   "source": [
    "res"
   ]
  },
  {
   "cell_type": "code",
   "execution_count": 17,
   "id": "46fe5cb6-9764-4ed5-8e25-5826668f8af3",
   "metadata": {},
   "outputs": [],
   "source": [
    "_res = parser.preprocess_sql_queries(parser.read_sql_file(file_path))"
   ]
  },
  {
   "cell_type": "code",
   "execution_count": 18,
   "id": "f7e3c30b-0ecf-4ae0-95da-b4518a4e1469",
   "metadata": {},
   "outputs": [
    {
     "data": {
      "text/plain": [
       "[{'token': 'create',\n",
       "  'type': 'table',\n",
       "  'value': 'schema.ta',\n",
       "  'metadta': {'schema_name': 'schema',\n",
       "   'table_name': 'ta',\n",
       "   'table_alias': None}},\n",
       " {'token': 'select',\n",
       "  'type': 'column',\n",
       "  'value': 'c4.cid',\n",
       "  'metadata': {'column_name': 'cid', 'table_alias': 'c4'}},\n",
       " {'token': 'select',\n",
       "  'type': 'column',\n",
       "  'value': 'c4.cis',\n",
       "  'metadata': {'column_name': 'cis', 'table_alias': 'c4'}},\n",
       " {'token': 'select',\n",
       "  'type': 'column',\n",
       "  'value': 'c4.dsc',\n",
       "  'metadata': {'column_name': 'dsc', 'table_alias': 'c4'}},\n",
       " {'token': 'select',\n",
       "  'type': 'column',\n",
       "  'value': 'c4.ctcpty',\n",
       "  'metadata': {'column_name': 'ctcpty', 'table_alias': 'c4'}},\n",
       " {'token': 'select',\n",
       "  'type': 'column',\n",
       "  'value': 'c4.stts',\n",
       "  'metadata': {'column_name': 'stts', 'table_alias': 'c4'}},\n",
       " {'token': 'select',\n",
       "  'type': 'column',\n",
       "  'value': 'c4.edts',\n",
       "  'metadata': {'column_name': 'edts', 'table_alias': 'c4'}},\n",
       " {'token': 'FROM',\n",
       "  'type': 'subquery',\n",
       "  'value': [{'token': 'select',\n",
       "    'type': 'column',\n",
       "    'value': 'c3.cid',\n",
       "    'metadata': {'column_name': 'cid', 'table_alias': 'c3'}},\n",
       "   {'token': 'select',\n",
       "    'type': 'column',\n",
       "    'value': 'c3.cis',\n",
       "    'metadata': {'column_name': 'cis', 'table_alias': 'c3'}},\n",
       "   {'token': 'select',\n",
       "    'type': 'column',\n",
       "    'value': 'c3.dsc',\n",
       "    'metadata': {'column_name': 'dsc', 'table_alias': 'c3'}},\n",
       "   {'token': 'select',\n",
       "    'type': 'column',\n",
       "    'value': 'c3.ctcpty',\n",
       "    'metadata': {'column_name': 'ctcpty', 'table_alias': 'c3'}},\n",
       "   {'token': 'select',\n",
       "    'type': 'column',\n",
       "    'value': 'c3.mstts',\n",
       "    'metadata': {'column_name': 'mstts', 'table_alias': 'c3'}},\n",
       "   {'token': 'select',\n",
       "    'type': 'column',\n",
       "    'value': 'c3.edts',\n",
       "    'metadata': {'column_name': 'edts', 'table_alias': 'c3'}},\n",
       "   {'token': 'select',\n",
       "    'type': 'column',\n",
       "    'value': 'lag(c3.mstts)',\n",
       "    'metadata': {'function': 'lag',\n",
       "     'value': 'lag(c3.mstts)',\n",
       "     'is_function': True}},\n",
       "   {'token': 'select',\n",
       "    'type': 'column',\n",
       "    'value': '(partition by c3.cid, c3.cis, c3.dsc order by c3.mstts) stts',\n",
       "    'metadata': {'column_name': 'stts', 'is_partition_condition': True}},\n",
       "   {'token': 'select',\n",
       "    'type': 'column',\n",
       "    'value': 'rownumber%2 as rownumber_mod_2',\n",
       "    'metadata': {'column_name': 'rownumber_mod_2',\n",
       "     'is_partition_condition': True}},\n",
       "   {'token': 'FROM',\n",
       "    'type': 'subquery',\n",
       "    'value': [{'token': 'select',\n",
       "      'type': 'column',\n",
       "      'value': 'c2.cid',\n",
       "      'metadata': {'column_name': 'cid', 'table_alias': 'c2'}},\n",
       "     {'token': 'select',\n",
       "      'type': 'column',\n",
       "      'value': 'c2.cis',\n",
       "      'metadata': {'column_name': 'cis', 'table_alias': 'c2'}},\n",
       "     {'token': 'select',\n",
       "      'type': 'column',\n",
       "      'value': 'c2.dsc',\n",
       "      'metadata': {'column_name': 'dsc', 'table_alias': 'c2'}},\n",
       "     {'token': 'select',\n",
       "      'type': 'column',\n",
       "      'value': 'c2.ctcpty',\n",
       "      'metadata': {'column_name': 'ctcpty', 'table_alias': 'c2'}},\n",
       "     {'token': 'select',\n",
       "      'type': 'column',\n",
       "      'value': 'c2.mstts',\n",
       "      'metadata': {'column_name': 'mstts', 'table_alias': 'c2'}},\n",
       "     {'token': 'select',\n",
       "      'type': 'column',\n",
       "      'value': 'c2.edts',\n",
       "      'metadata': {'column_name': 'edts', 'table_alias': 'c2'}},\n",
       "     {'token': 'select',\n",
       "      'type': 'column',\n",
       "      'value': 'row_number()',\n",
       "      'metadata': {'function': 'row_number',\n",
       "       'value': 'row_number()',\n",
       "       'is_function': True}},\n",
       "     {'token': 'FROM',\n",
       "      'type': 'subquery',\n",
       "      'value': [{'token': 'select',\n",
       "        'type': 'column',\n",
       "        'value': 'c1.cid',\n",
       "        'metadata': {'column_name': 'cid', 'table_alias': 'c1'}},\n",
       "       {'token': 'select',\n",
       "        'type': 'column',\n",
       "        'value': 'c1.cis',\n",
       "        'metadata': {'column_name': 'cis', 'table_alias': 'c1'}},\n",
       "       {'token': 'select',\n",
       "        'type': 'column',\n",
       "        'value': 'c1.dsc',\n",
       "        'metadata': {'column_name': 'dsc', 'table_alias': 'c1'}},\n",
       "       {'token': 'select',\n",
       "        'type': 'column',\n",
       "        'value': 'c1.ctcpty',\n",
       "        'metadata': {'column_name': 'ctcpty', 'table_alias': 'c1'}},\n",
       "       {'token': 'select',\n",
       "        'type': 'column',\n",
       "        'value': 'c1.edts',\n",
       "        'metadata': {'column_name': 'edts', 'table_alias': 'c1'}},\n",
       "       {'token': 'select',\n",
       "        'type': 'column',\n",
       "        'value': 'c1.mstts',\n",
       "        'metadata': {'column_name': 'mstts', 'table_alias': 'c1'}},\n",
       "       {'token': 'select',\n",
       "        'type': 'column',\n",
       "        'value': 'if',\n",
       "        'is_function': True},\n",
       "       {'token': 'select',\n",
       "        'type': 'if',\n",
       "        'value': \"( c1.ctcpty = lag(c1.ctcpty) over (partition by c1.cid, c1.cis, c1.dsc order by c1.mstts), NULL, 'Y' ) flag_wrt_begin_asc\"},\n",
       "       {'token': 'select', 'type': 'if'},\n",
       "       {'token': 'select',\n",
       "        'type': 'if',\n",
       "        'value': \"( c1.ctcpty = lag(c1.ctcpty) over (partition by c1.cid, c1.cis, c1.dsc order by c1.mstts desc), NULL, 'Y' ) flag_wrt_begin_desc\"},\n",
       "       {'token': 'FROM',\n",
       "        'type': 'subquery',\n",
       "        'value': [{'token': 'select',\n",
       "          'type': 'column',\n",
       "          'value': 'bcm.cid',\n",
       "          'metadata': {'column_name': 'cid', 'table_alias': 'bcm'}},\n",
       "         {'token': 'select',\n",
       "          'type': 'column',\n",
       "          'value': 'bcm.cis',\n",
       "          'metadata': {'column_name': 'cis', 'table_alias': 'bcm'}},\n",
       "         {'token': 'select',\n",
       "          'type': 'column',\n",
       "          'value': 'bcm.dsc',\n",
       "          'metadata': {'column_name': 'dsc', 'table_alias': 'bcm'}},\n",
       "         {'token': 'select',\n",
       "          'type': 'column',\n",
       "          'value': \"nvl(bcm.ctcpty,'NA') ctcpty\",\n",
       "          'metadata': {'column_name': 'ctcpty', 'is_function': True}},\n",
       "         {'token': 'select',\n",
       "          'type': 'column',\n",
       "          'value': 'bcm.mstts',\n",
       "          'metadata': {'column_name': 'mstts', 'table_alias': 'bcm'}},\n",
       "         {'token': 'select',\n",
       "          'type': 'column',\n",
       "          'value': 'bcm.edts',\n",
       "          'metadata': {'column_name': 'edts', 'table_alias': 'bcm'}},\n",
       "         {'token': 'FROM',\n",
       "          'type': 'table',\n",
       "          'value': 'schama.bcc bcm',\n",
       "          'metadata': {'schema_name': 'schama',\n",
       "           'table_name': 'bcc',\n",
       "           'table_alias': 'bcm'}}],\n",
       "        'alias': 'c1'}],\n",
       "      'alias': 'c2'}],\n",
       "    'alias': 'c3'}],\n",
       "  'alias': 'c4'},\n",
       " {'token': 'select',\n",
       "  'type': 'column',\n",
       "  'value': 'c2.cid',\n",
       "  'metadata': {'column_name': 'cid', 'table_alias': 'c2'}},\n",
       " {'token': 'select',\n",
       "  'type': 'column',\n",
       "  'value': 'c2.cis',\n",
       "  'metadata': {'column_name': 'cis', 'table_alias': 'c2'}},\n",
       " {'token': 'select',\n",
       "  'type': 'column',\n",
       "  'value': 'c2.dsc',\n",
       "  'metadata': {'column_name': 'dsc', 'table_alias': 'c2'}},\n",
       " {'token': 'select',\n",
       "  'type': 'column',\n",
       "  'value': 'c2.ctcpty',\n",
       "  'metadata': {'column_name': 'ctcpty', 'table_alias': 'c2'}},\n",
       " {'token': 'select',\n",
       "  'type': 'column',\n",
       "  'value': 'c2.mstts stts',\n",
       "  'metadata': {'column_name': 'stts',\n",
       "   'column_name_before_rename': 'mstts',\n",
       "   'table_alias': 'c2'}},\n",
       " {'token': 'select',\n",
       "  'type': 'column',\n",
       "  'value': 'c2.edts cnt_cmptp_end_ts',\n",
       "  'metadata': {'column_name': 'cnt_cmptp_end_ts',\n",
       "   'column_name_before_rename': 'edts',\n",
       "   'table_alias': 'c2'}},\n",
       " {'token': 'FROM',\n",
       "  'type': 'subquery',\n",
       "  'value': [{'token': 'select',\n",
       "    'type': 'column',\n",
       "    'value': 'c1.cid',\n",
       "    'metadata': {'column_name': 'cid', 'table_alias': 'c1'}},\n",
       "   {'token': 'select',\n",
       "    'type': 'column',\n",
       "    'value': 'c1.cis',\n",
       "    'metadata': {'column_name': 'cis', 'table_alias': 'c1'}},\n",
       "   {'token': 'select',\n",
       "    'type': 'column',\n",
       "    'value': 'c1.dsc',\n",
       "    'metadata': {'column_name': 'dsc', 'table_alias': 'c1'}},\n",
       "   {'token': 'select',\n",
       "    'type': 'column',\n",
       "    'value': 'c1.ctcpty',\n",
       "    'metadata': {'column_name': 'ctcpty', 'table_alias': 'c1'}},\n",
       "   {'token': 'select',\n",
       "    'type': 'column',\n",
       "    'value': 'c1.edts',\n",
       "    'metadata': {'column_name': 'edts', 'table_alias': 'c1'}},\n",
       "   {'token': 'select',\n",
       "    'type': 'column',\n",
       "    'value': 'c1.mstts',\n",
       "    'metadata': {'column_name': 'mstts', 'table_alias': 'c1'}},\n",
       "   {'token': 'select', 'type': 'column', 'value': 'if', 'is_function': True},\n",
       "   {'token': 'select',\n",
       "    'type': 'if',\n",
       "    'value': \"( c1.ctcpty = lag(c1.ctcpty) over (partition by c1.cid, c1.cis, c1.dsc order by c1.mstts), NULL, 'Y' ) flag_wrt_begin_asc\"},\n",
       "   {'token': 'select', 'type': 'if'},\n",
       "   {'token': 'select',\n",
       "    'type': 'if',\n",
       "    'value': \"( c1.ctcpty = lag(c1.ctcpty) over (partition by c1.cid, c1.cis, c1.dsc order by c1.mstts desc), NULL, 'Y' ) flag_wrt_begin_desc\"},\n",
       "   {'token': 'FROM',\n",
       "    'type': 'subquery',\n",
       "    'value': [{'token': 'select',\n",
       "      'type': 'column',\n",
       "      'value': 'bcm.cid',\n",
       "      'metadata': {'column_name': 'cid', 'table_alias': 'bcm'}},\n",
       "     {'token': 'select',\n",
       "      'type': 'column',\n",
       "      'value': 'bcm.cis',\n",
       "      'metadata': {'column_name': 'cis', 'table_alias': 'bcm'}},\n",
       "     {'token': 'select',\n",
       "      'type': 'column',\n",
       "      'value': 'bcm.dsc',\n",
       "      'metadata': {'column_name': 'dsc', 'table_alias': 'bcm'}},\n",
       "     {'token': 'select',\n",
       "      'type': 'column',\n",
       "      'value': \"nvl(bcm.ctcpty,'NA') ctcpty\",\n",
       "      'metadata': {'column_name': 'ctcpty', 'is_function': True}},\n",
       "     {'token': 'select',\n",
       "      'type': 'column',\n",
       "      'value': 'bcm.mstts',\n",
       "      'metadata': {'column_name': 'mstts', 'table_alias': 'bcm'}},\n",
       "     {'token': 'select',\n",
       "      'type': 'column',\n",
       "      'value': 'bcm.edts',\n",
       "      'metadata': {'column_name': 'edts', 'table_alias': 'bcm'}},\n",
       "     {'token': 'FROM',\n",
       "      'type': 'table',\n",
       "      'value': 'tenant_insurance_cdsaimrd.brg_cnt_component bcm',\n",
       "      'metadata': {'schema_name': 'tenant_insurance_cdsaimrd',\n",
       "       'table_name': 'brg_cnt_component',\n",
       "       'table_alias': 'bcm'}}],\n",
       "    'alias': 'c1'}],\n",
       "  'alias': 'c2'}]"
      ]
     },
     "execution_count": 18,
     "metadata": {},
     "output_type": "execute_result"
    }
   ],
   "source": [
    "parser.analyse_query(_res[0]['statement'])"
   ]
  },
  {
   "cell_type": "code",
   "execution_count": null,
   "id": "b0bba71c-8881-4915-b41d-2648a1aa2ca0",
   "metadata": {},
   "outputs": [],
   "source": [
    "import sqlparse"
   ]
  },
  {
   "cell_type": "code",
   "execution_count": null,
   "id": "c02f8076-7113-4ed7-aaa8-d85a67f53e9b",
   "metadata": {},
   "outputs": [],
   "source": [
    "file_path_0 = './data/sample_subquery.sql'\n",
    "res_0 = parser.preprocess_sql_query(parser.read_sql_file(file_path_0))\n",
    "stmt_0 = res_0[1]"
   ]
  },
  {
   "cell_type": "code",
   "execution_count": null,
   "id": "59282bbe-342e-4896-91d3-ac098266168d",
   "metadata": {},
   "outputs": [],
   "source": [
    "file_path_1 = './data/test.sql'\n",
    "res_1 = parser.preprocess_sql_query(parser.read_sql_file(file_path_1))\n",
    "stmt_1 = res_1[1]"
   ]
  },
  {
   "cell_type": "code",
   "execution_count": null,
   "id": "446c21fa-2e46-44cf-989c-ee2f78694495",
   "metadata": {},
   "outputs": [],
   "source": [
    "stmt_0.tokens"
   ]
  },
  {
   "cell_type": "code",
   "execution_count": null,
   "id": "e534acef-b7d8-473a-93c8-a2c2fca17e52",
   "metadata": {},
   "outputs": [],
   "source": [
    "stmt_1.tokens"
   ]
  },
  {
   "cell_type": "code",
   "execution_count": null,
   "id": "5b5e7d0f-9ff3-4d89-b05a-b25faf2f2dc1",
   "metadata": {},
   "outputs": [],
   "source": [
    "for token in stmt_1.tokens:\n",
    "    parser.scan_known_tokens(token)\n",
    "    print(token)\n",
    "    print(parser.switchs)"
   ]
  },
  {
   "cell_type": "code",
   "execution_count": null,
   "id": "c99adae7-0019-4571-bbf8-0aff0e0a34a5",
   "metadata": {},
   "outputs": [],
   "source": [
    "from sqlparse.sql import Identifier\n",
    "\n",
    "for token in stmt_1.tokens:\n",
    "    if isinstance(token, Identifier):\n",
    "\n",
    "        if parser.switchs == [False, True, False, False, False, False, False, False, False, False, False]:\n",
    "            break \n",
    "    parser.scan_known_tokens(token)\n"
   ]
  },
  {
   "cell_type": "code",
   "execution_count": null,
   "id": "00794871-98ce-490e-a695-d57bbacaa4b9",
   "metadata": {},
   "outputs": [],
   "source": [
    "utils = Utilities()"
   ]
  },
  {
   "cell_type": "code",
   "execution_count": null,
   "id": "6e475a37-a918-4b88-8399-4cffee35651b",
   "metadata": {},
   "outputs": [],
   "source": [
    "_query = utils.cleanup_string(token.tokens[0].value[1:-1])\n",
    "_query += ';'\n"
   ]
  },
  {
   "cell_type": "code",
   "execution_count": null,
   "id": "7c75c2ec-4c86-48b6-a2a5-9d68c3a17f30",
   "metadata": {},
   "outputs": [],
   "source": [
    "_statement, = sqlparse.parse(_query)"
   ]
  },
  {
   "cell_type": "code",
   "execution_count": null,
   "id": "121e87bb-aca7-4b0f-8099-2a0986243b6f",
   "metadata": {},
   "outputs": [],
   "source": [
    "parser_sub = GenerateMetadataHiveQueries()"
   ]
  },
  {
   "cell_type": "code",
   "execution_count": null,
   "id": "49a7d142-e64c-4d7e-9aa1-4a875c7761c7",
   "metadata": {},
   "outputs": [],
   "source": [
    "_tokens = _statement.tokens"
   ]
  },
  {
   "cell_type": "code",
   "execution_count": null,
   "id": "baec3d23-74fa-40b5-ae0f-37b3d93962bb",
   "metadata": {},
   "outputs": [],
   "source": [
    "for token in _tokens:\n",
    "    parser.scan_known_tokens(token)\n",
    "    print(token)\n",
    "    print(parser.switchs)\n",
    "    print(parser.is_partition)\n",
    "    \n",
    "    tmp = parser.analyse_token(token)\n",
    "    print(tmp)\n",
    "\n"
   ]
  },
  {
   "cell_type": "code",
   "execution_count": null,
   "id": "02ce7a69-643f-44f4-8450-9e7806edf1bc",
   "metadata": {},
   "outputs": [],
   "source": [
    "_tokens"
   ]
  },
  {
   "cell_type": "code",
   "execution_count": null,
   "id": "30ce7094-1eb1-4884-81ec-11e4f84018f7",
   "metadata": {},
   "outputs": [],
   "source": [
    "a = _tokens[2].tokens[-1]\n",
    "a.value"
   ]
  },
  {
   "cell_type": "code",
   "execution_count": null,
   "id": "0d3d88e5-3fe2-4378-82c7-46a1ba3bd366",
   "metadata": {},
   "outputs": [],
   "source": [
    "a.is_group"
   ]
  },
  {
   "cell_type": "code",
   "execution_count": null,
   "id": "d72ed308-c877-4eaf-b85d-22d629cbec91",
   "metadata": {},
   "outputs": [],
   "source": [
    "b = _tokens[6].tokens[0]"
   ]
  },
  {
   "cell_type": "code",
   "execution_count": null,
   "id": "7237555b-86f0-439d-888f-4ebe2531cd07",
   "metadata": {},
   "outputs": [],
   "source": [
    "b.tokens[0].tokens"
   ]
  },
  {
   "cell_type": "code",
   "execution_count": 19,
   "id": "ba83317a-ff74-4daf-8e32-46d77d02b439",
   "metadata": {},
   "outputs": [
    {
     "name": "stdout",
     "output_type": "stream",
     "text": [
      "/Users/tomoyawada/opt/anaconda3/bin/python\n"
     ]
    }
   ],
   "source": [
    "!which python\n"
   ]
  },
  {
   "cell_type": "code",
   "execution_count": 25,
   "id": "37a2d1c5-03a9-4601-86be-709514d93176",
   "metadata": {},
   "outputs": [],
   "source": [
    "_query = \"\"\"select\n",
    "    c3.cid, \n",
    "    c3.cis, \n",
    "    c3.dsc,\n",
    "    c3.ctcpty,\n",
    "    c3.mstts,\n",
    "    c3.edts,\n",
    "    lag(c3.mstts) over (partition by c3.cid, c3.cis, c3.dsc order by c3.mstts) stts, \n",
    "    rownumber%2 as rownumber_mod_2\n",
    "from\n",
    "(\n",
    "    select\n",
    "        c2.cid, \n",
    "        c2.cis, \n",
    "        c2.dsc,\n",
    "        c2.ctcpty,\n",
    "        c2.mstts,\n",
    "        c2.edts,\n",
    "        row_number() over (partition by c2.cid, c2.cis, c2.dsc order by c2.mstts) rownumber\n",
    "    from\n",
    "    (\n",
    "        select distinct\n",
    "            c1.cid, \n",
    "            c1.cis, \n",
    "            c1.dsc,\n",
    "            c1.ctcpty,\n",
    "            c1.edts,\n",
    "            c1.mstts,\n",
    "            if\n",
    "            (\n",
    "                c1.ctcpty = lag(c1.ctcpty) over (partition by c1.cid, c1.cis, c1.dsc order by c1.mstts),\n",
    "                NULL, \n",
    "                'Y'\n",
    "            ) flag_wrt_begin_asc,\n",
    "            if\n",
    "            (\n",
    "                c1.ctcpty = lag(c1.ctcpty) over (partition by c1.cid, c1.cis, c1.dsc order by c1.mstts desc),\n",
    "                NULL, \n",
    "                'Y'\n",
    "            ) flag_wrt_begin_desc\n",
    "        from\n",
    "        (\n",
    "            select distinct\n",
    "                bcm.cid, \n",
    "                bcm.cis, \n",
    "                bcm.dsc,\n",
    "                nvl(bcm.ctcpty,'NA') ctcpty,\n",
    "                bcm.mstts,\n",
    "                bcm.edts\n",
    "            from\n",
    "                schama.bcc bcm\n",
    "            where\n",
    "                cis != 'CCC' \n",
    "                and ctcp_cd_nk = 'BBB'\n",
    "        ) c1\n",
    "    ) c2\n",
    "where\n",
    "(\n",
    "    (c2.flag_wrt_begin_asc = 'Y' and c2.flag_wrt_begin_desc is null)\n",
    "    or (c2.flag_wrt_begin_desc = 'Y' and c2.flag_wrt_begin_asc is null)\\n)\n",
    ") c3;\"\"\"\n"
   ]
  },
  {
   "cell_type": "code",
   "execution_count": 56,
   "id": "04e7fde2-46c0-4287-a4e3-b015435b66ca",
   "metadata": {},
   "outputs": [],
   "source": [
    "stmt, = sqlparse.parse(_query)"
   ]
  },
  {
   "cell_type": "code",
   "execution_count": null,
   "id": "13dbcad9-2728-4f84-ba0e-b27e09103266",
   "metadata": {},
   "outputs": [],
   "source": []
  },
  {
   "cell_type": "code",
   "execution_count": 27,
   "id": "3d7bbc6e-0ae1-4afa-844c-f85e13c16629",
   "metadata": {},
   "outputs": [
    {
     "data": {
      "text/plain": [
       "[<DML 'select' at 0x7F7DB954BE20>,\n",
       " <Newline ' ' at 0x7F7DB9553100>,\n",
       " <Whitespace ' ' at 0x7F7DB95531C0>,\n",
       " <Whitespace ' ' at 0x7F7DB9553220>,\n",
       " <Whitespace ' ' at 0x7F7DB9553280>,\n",
       " <Whitespace ' ' at 0x7F7DB95532E0>,\n",
       " <IdentifierList 'c3.cid...' at 0x7F7DB956F900>,\n",
       " <Whitespace ' ' at 0x7F7DB9554AC0>,\n",
       " <Keyword 'over' at 0x7F7DB9554B20>,\n",
       " <Whitespace ' ' at 0x7F7DB9554B80>,\n",
       " <IdentifierList '(parti...' at 0x7F7DB956F970>,\n",
       " <Newline ' ' at 0x7F7DB95569A0>,\n",
       " <Keyword 'from' at 0x7F7DB9556A00>,\n",
       " <Newline ' ' at 0x7F7DB9556A60>,\n",
       " <Identifier '( ...' at 0x7F7DB956F7B0>,\n",
       " <Punctuation ';' at 0x7F7DB956B580>]"
      ]
     },
     "execution_count": 27,
     "metadata": {},
     "output_type": "execute_result"
    }
   ],
   "source": [
    "stmt.tokens"
   ]
  },
  {
   "cell_type": "code",
   "execution_count": 30,
   "id": "74d0229c-0391-42fc-a34f-37f8831787ce",
   "metadata": {},
   "outputs": [
    {
     "data": {
      "text/plain": [
       "<IdentifierList '(parti...' at 0x7F7DB956F970>"
      ]
     },
     "execution_count": 30,
     "metadata": {},
     "output_type": "execute_result"
    }
   ],
   "source": [
    "a = stmt.tokens[10]\n",
    "a"
   ]
  },
  {
   "cell_type": "code",
   "execution_count": 34,
   "id": "67daa810-6c5c-488d-9f13-71bfb823749d",
   "metadata": {},
   "outputs": [],
   "source": [
    "b = a.value"
   ]
  },
  {
   "cell_type": "code",
   "execution_count": 33,
   "id": "e21cc4e7-0de7-4cca-bd54-c9b347db7ca0",
   "metadata": {},
   "outputs": [
    {
     "data": {
      "text/plain": [
       "['(partition by c3.cid',\n",
       " ' c3.cis',\n",
       " ' c3.dsc order by c3.mstts) stts',\n",
       " ' rownumber%2 as rownumber_mod_2']"
      ]
     },
     "execution_count": 33,
     "metadata": {},
     "output_type": "execute_result"
    }
   ],
   "source": [
    "b.split(',')"
   ]
  },
  {
   "cell_type": "code",
   "execution_count": 48,
   "id": "eb895da8-217b-4418-a993-46b4ad17f5a1",
   "metadata": {},
   "outputs": [],
   "source": [
    "c = list(a.get_identifiers())"
   ]
  },
  {
   "cell_type": "code",
   "execution_count": 51,
   "id": "3cbcda52-165f-4f81-986f-ad702ece8e37",
   "metadata": {},
   "outputs": [
    {
     "data": {
      "text/plain": [
       "'stts'"
      ]
     },
     "execution_count": 51,
     "metadata": {},
     "output_type": "execute_result"
    }
   ],
   "source": [
    "c[0].get_alias()"
   ]
  },
  {
   "cell_type": "code",
   "execution_count": 52,
   "id": "7307b04b-6f76-477d-ba87-a6e2bff93ca0",
   "metadata": {},
   "outputs": [
    {
     "data": {
      "text/plain": [
       "'(partition by c3.cid, c3.cis, c3.dsc order by c3.mstts) stts'"
      ]
     },
     "execution_count": 52,
     "metadata": {},
     "output_type": "execute_result"
    }
   ],
   "source": [
    "c[0].value"
   ]
  },
  {
   "cell_type": "code",
   "execution_count": 55,
   "id": "f9bf2292-176f-4ea4-8924-1d4ea8225797",
   "metadata": {},
   "outputs": [
    {
     "data": {
      "text/plain": [
       "[<Parenthesis '(parti...' at 0x7F7DB95503C0>,\n",
       " <Whitespace ' ' at 0x7F7DB9556580>,\n",
       " <Identifier 'stts' at 0x7F7D784B19E0>]"
      ]
     },
     "execution_count": 55,
     "metadata": {},
     "output_type": "execute_result"
    }
   ],
   "source": [
    "c[0].tokens"
   ]
  },
  {
   "cell_type": "code",
   "execution_count": null,
   "id": "6eafdb1c-1fef-48a7-9d7c-873fc002aec6",
   "metadata": {},
   "outputs": [],
   "source": []
  },
  {
   "cell_type": "code",
   "execution_count": null,
   "id": "e0dcd7ac-ec8e-4e7e-a471-7bc5aeef397f",
   "metadata": {},
   "outputs": [],
   "source": []
  },
  {
   "cell_type": "code",
   "execution_count": null,
   "id": "2e60fc0a-1c32-4b63-a198-035c50eaa87c",
   "metadata": {},
   "outputs": [],
   "source": [
    "b = list(a.get_identifiers())[-1]\n",
    "b"
   ]
  },
  {
   "cell_type": "code",
   "execution_count": null,
   "id": "dda6aaf8-69d5-4658-a7bd-b188e7d05a8a",
   "metadata": {},
   "outputs": [],
   "source": [
    "isinstance(b, sqlparse.sql.Function)"
   ]
  },
  {
   "cell_type": "code",
   "execution_count": null,
   "id": "e24da2af-5ffe-4046-bf11-01125130abe0",
   "metadata": {},
   "outputs": [],
   "source": [
    "b.value"
   ]
  },
  {
   "cell_type": "code",
   "execution_count": null,
   "id": "2b75ae85-f803-4d04-bb8c-1b6b30ff3beb",
   "metadata": {},
   "outputs": [],
   "source": []
  },
  {
   "cell_type": "code",
   "execution_count": null,
   "id": "45b77906-6a3e-4684-ae2d-2e3a9bca75ec",
   "metadata": {},
   "outputs": [],
   "source": [
    "for i,token in enumerate(stmt.tokens):\n",
    "#     print(f'----- {i}')\n",
    "    if i != 10:\n",
    "        continue\n",
    "    parser.scan_known_tokens(token)\n",
    "    print(token)\n",
    "    print(parser.switchs)\n",
    "    print(parser.is_partition)\n",
    "    \n",
    "    tmp = parser.analyse_token(token)\n",
    "    print(tmp)"
   ]
  },
  {
   "cell_type": "code",
   "execution_count": null,
   "id": "9bc6d59f-2743-40b7-a0fb-ddd65e34b2f8",
   "metadata": {},
   "outputs": [],
   "source": [
    "token"
   ]
  },
  {
   "cell_type": "code",
   "execution_count": null,
   "id": "43ccc3d0-bbc8-4a11-923a-f5047e764d17",
   "metadata": {},
   "outputs": [],
   "source": [
    "token.tokens[0]"
   ]
  },
  {
   "cell_type": "code",
   "execution_count": 11,
   "id": "54a169cb-d9f7-4d10-ae4f-ee71147c2db6",
   "metadata": {},
   "outputs": [],
   "source": [
    "_query = \"\"\"select \n",
    "distinct\n",
    "    c1.cid, c1.cis, c1.dsc,\n",
    "    c1.ctcpty,\n",
    "    c1.edts,\n",
    "    c1.mstts\n",
    "    ,if\n",
    "    (\n",
    "        c1.ctcpty = lag(c1.ctcpty) over (partition by c1.cid, c1.cis, c1.dsc order by c1.mstts),\n",
    "        NULL, 'Y'\n",
    "    ) flag_wrt_begin_asc\n",
    "    ,if\n",
    "    (\n",
    "        c1.ctcpty = lag(c1.ctcpty) over (partition by c1.cid, c1.cis, c1.dsc order by c1.mstts desc),\n",
    "        NULL, 'Y'\n",
    "    ) flag_wrt_begin_desc\n",
    "from\n",
    "    table;\"\"\""
   ]
  },
  {
   "cell_type": "code",
   "execution_count": 12,
   "id": "bf7ad7e1-16ee-4497-8ffb-60676421152d",
   "metadata": {},
   "outputs": [
    {
     "name": "stdout",
     "output_type": "stream",
     "text": [
      "select \n",
      "distinct\n",
      "    c1.cid, c1.cis, c1.dsc,\n",
      "    c1.ctcpty,\n",
      "    c1.edts,\n",
      "    c1.mstts\n",
      "    ,if\n",
      "    (\n",
      "        c1.ctcpty = lag(c1.ctcpty) over (partition by c1.cid, c1.cis, c1.dsc order by c1.mstts),\n",
      "        NULL, 'Y'\n",
      "    ) flag_wrt_begin_asc\n",
      "    ,if\n",
      "    (\n",
      "        c1.ctcpty = lag(c1.ctcpty) over (partition by c1.cid, c1.cis, c1.dsc order by c1.mstts desc),\n",
      "        NULL, 'Y'\n",
      "    ) flag_wrt_begin_desc\n",
      "from\n",
      "    table;\n"
     ]
    }
   ],
   "source": [
    "print(_query)"
   ]
  },
  {
   "cell_type": "code",
   "execution_count": 13,
   "id": "eba3339b-1a11-4c55-a58d-cbf5e8580add",
   "metadata": {},
   "outputs": [],
   "source": [
    "stmt, = sqlparse.parse(_query)"
   ]
  },
  {
   "cell_type": "code",
   "execution_count": 14,
   "id": "7e7b91b2-d8f8-4595-9866-29138d7b53d3",
   "metadata": {},
   "outputs": [
    {
     "name": "stdout",
     "output_type": "stream",
     "text": [
      "----- 0\n",
      "select\n",
      "Token.Keyword.DML\n",
      "[False, False, False, False, False, False, False, False, True, False, False]\n",
      "False\n",
      "[]\n",
      "----- 1\n",
      " \n",
      "Token.Text.Whitespace\n",
      "[False, False, False, False, False, False, False, False, True, False, False]\n",
      "False\n",
      "[]\n",
      "----- 2\n",
      "\n",
      "\n",
      "Token.Text.Whitespace.Newline\n",
      "[False, False, False, False, False, False, False, False, True, False, False]\n",
      "False\n",
      "[]\n",
      "----- 3\n",
      "distinct\n",
      "Token.Keyword\n",
      "[False, False, False, False, False, False, False, False, True, False, False]\n",
      "False\n",
      "[]\n",
      "----- 4\n",
      "\n",
      "\n",
      "Token.Text.Whitespace.Newline\n",
      "[False, False, False, False, False, False, False, False, True, False, False]\n",
      "False\n",
      "[]\n",
      "----- 5\n",
      " \n",
      "Token.Text.Whitespace\n",
      "[False, False, False, False, False, False, False, False, True, False, False]\n",
      "False\n",
      "[]\n",
      "----- 6\n",
      " \n",
      "Token.Text.Whitespace\n",
      "[False, False, False, False, False, False, False, False, True, False, False]\n",
      "False\n",
      "[]\n",
      "----- 7\n",
      " \n",
      "Token.Text.Whitespace\n",
      "[False, False, False, False, False, False, False, False, True, False, False]\n",
      "False\n",
      "[]\n",
      "----- 8\n",
      " \n",
      "Token.Text.Whitespace\n",
      "[False, False, False, False, False, False, False, False, True, False, False]\n",
      "False\n",
      "[]\n",
      "----- 9\n",
      "c1.cid, c1.cis, c1.dsc,\n",
      "    c1.ctcpty,\n",
      "    c1.edts,\n",
      "    c1.mstts\n",
      "    ,if\n",
      "None\n",
      "[False, False, False, False, False, False, False, False, True, False, False]\n",
      "False\n",
      "[{'token': 'select', 'type': 'column', 'value': 'c1.cid', 'metadata': {'column_name': 'cid', 'table_alias': 'c1'}}, {'token': 'select', 'type': 'column', 'value': 'c1.cis', 'metadata': {'column_name': 'cis', 'table_alias': 'c1'}}, {'token': 'select', 'type': 'column', 'value': 'c1.dsc', 'metadata': {'column_name': 'dsc', 'table_alias': 'c1'}}, {'token': 'select', 'type': 'column', 'value': 'c1.ctcpty', 'metadata': {'column_name': 'ctcpty', 'table_alias': 'c1'}}, {'token': 'select', 'type': 'column', 'value': 'c1.edts', 'metadata': {'column_name': 'edts', 'table_alias': 'c1'}}, {'token': 'select', 'type': 'column', 'value': 'c1.mstts', 'metadata': {'column_name': 'mstts', 'table_alias': 'c1'}}, {'token': 'select', 'type': 'column', 'value': 'if', 'is_function': True}]\n",
      "----- 10\n",
      "\n",
      "\n",
      "Token.Text.Whitespace.Newline\n",
      "[False, False, False, False, False, False, False, False, True, False, False]\n",
      "True\n",
      "[]\n",
      "----- 11\n",
      " \n",
      "Token.Text.Whitespace\n",
      "[False, False, False, False, False, False, False, False, True, False, False]\n",
      "True\n",
      "[]\n",
      "----- 12\n",
      " \n",
      "Token.Text.Whitespace\n",
      "[False, False, False, False, False, False, False, False, True, False, False]\n",
      "True\n",
      "[]\n",
      "----- 13\n",
      " \n",
      "Token.Text.Whitespace\n",
      "[False, False, False, False, False, False, False, False, True, False, False]\n",
      "True\n",
      "[]\n",
      "----- 14\n",
      " \n",
      "Token.Text.Whitespace\n",
      "[False, False, False, False, False, False, False, False, True, False, False]\n",
      "True\n",
      "[]\n",
      "----- 15\n",
      "(\n",
      "        c1.ctcpty = lag(c1.ctcpty) over (partition by c1.cid, c1.cis, c1.dsc order by c1.mstts),\n",
      "        NULL, 'Y'\n",
      "    ) flag_wrt_begin_asc\n",
      "    ,if\n",
      "None\n",
      "[False, False, False, False, False, False, False, False, True, False, False]\n",
      "True\n",
      "herere\n",
      "[[{'token': 'select', 'type': 'if', 'value': \"( c1.ctcpty = lag(c1.ctcpty) over (partition by c1.cid, c1.cis, c1.dsc order by c1.mstts), NULL, 'Y' ) flag_wrt_begin_asc\"}, {'token': 'select', 'type': 'if'}]]\n",
      "----- 16\n",
      "\n",
      "\n",
      "Token.Text.Whitespace.Newline\n",
      "[False, False, False, False, False, False, False, False, True, False, False]\n",
      "True\n",
      "[]\n",
      "----- 17\n",
      " \n",
      "Token.Text.Whitespace\n",
      "[False, False, False, False, False, False, False, False, True, False, False]\n",
      "True\n",
      "[]\n",
      "----- 18\n",
      " \n",
      "Token.Text.Whitespace\n",
      "[False, False, False, False, False, False, False, False, True, False, False]\n",
      "True\n",
      "[]\n",
      "----- 19\n",
      " \n",
      "Token.Text.Whitespace\n",
      "[False, False, False, False, False, False, False, False, True, False, False]\n",
      "True\n",
      "[]\n",
      "----- 20\n",
      " \n",
      "Token.Text.Whitespace\n",
      "[False, False, False, False, False, False, False, False, True, False, False]\n",
      "True\n",
      "[]\n",
      "----- 21\n",
      "(\n",
      "        c1.ctcpty = lag(c1.ctcpty) over (partition by c1.cid, c1.cis, c1.dsc order by c1.mstts desc),\n",
      "        NULL, 'Y'\n",
      "    ) flag_wrt_begin_desc\n",
      "None\n",
      "[False, False, False, False, False, False, False, False, True, False, False]\n",
      "True\n",
      "[[{'token': 'select', 'type': 'if', 'value': \"( c1.ctcpty = lag(c1.ctcpty) over (partition by c1.cid, c1.cis, c1.dsc order by c1.mstts desc), NULL, 'Y' ) flag_wrt_begin_desc\"}]]\n",
      "----- 22\n",
      "\n",
      "\n",
      "Token.Text.Whitespace.Newline\n",
      "[False, False, False, False, False, False, False, False, True, False, False]\n",
      "True\n",
      "[]\n",
      "----- 23\n",
      "from\n",
      "Token.Keyword\n",
      "[False, True, False, False, False, False, False, False, False, False, False]\n",
      "False\n",
      "[]\n",
      "----- 24\n",
      "\n",
      "\n",
      "Token.Text.Whitespace.Newline\n",
      "[False, True, False, False, False, False, False, False, False, False, False]\n",
      "False\n",
      "[]\n",
      "----- 25\n",
      " \n",
      "Token.Text.Whitespace\n",
      "[False, True, False, False, False, False, False, False, False, False, False]\n",
      "False\n",
      "[]\n",
      "----- 26\n",
      " \n",
      "Token.Text.Whitespace\n",
      "[False, True, False, False, False, False, False, False, False, False, False]\n",
      "False\n",
      "[]\n",
      "----- 27\n",
      " \n",
      "Token.Text.Whitespace\n",
      "[False, True, False, False, False, False, False, False, False, False, False]\n",
      "False\n",
      "[]\n",
      "----- 28\n",
      " \n",
      "Token.Text.Whitespace\n",
      "[False, True, False, False, False, False, False, False, False, False, False]\n",
      "False\n",
      "[]\n",
      "----- 29\n",
      "table\n",
      "Token.Keyword\n",
      "[False, True, False, False, False, False, False, False, False, False, False]\n",
      "False\n",
      "[]\n",
      "----- 30\n",
      ";\n",
      "Token.Punctuation\n",
      "[False, True, False, False, False, False, False, False, False, False, False]\n",
      "False\n",
      "[]\n"
     ]
    }
   ],
   "source": [
    "for i,token in enumerate(stmt.tokens):\n",
    "    print(f'----- {i}')\n",
    "#     if i != 10:\n",
    "#         continue\n",
    "    parser.scan_known_tokens(token)\n",
    "    print(token)\n",
    "    print(token.ttype)\n",
    "    print(parser.switchs)\n",
    "    print(parser.is_if)\n",
    "    \n",
    "    tmp = parser.analyse_token(token)\n",
    "    print(tmp)"
   ]
  },
  {
   "cell_type": "code",
   "execution_count": 18,
   "id": "d27d9619-c389-42ba-a325-a66e7d6b34f9",
   "metadata": {},
   "outputs": [
    {
     "data": {
      "text/plain": [
       "<IdentifierList '( ...' at 0x7FE9480480B0>"
      ]
     },
     "execution_count": 18,
     "metadata": {},
     "output_type": "execute_result"
    }
   ],
   "source": [
    "a = stmt.tokens[15]\n",
    "a"
   ]
  },
  {
   "cell_type": "code",
   "execution_count": 23,
   "id": "21d6801b-5e99-41ae-8d82-b835a6f2d4fc",
   "metadata": {},
   "outputs": [
    {
     "data": {
      "text/plain": [
       "<bound method TokenList.get_sublists of <IdentifierList '( ...' at 0x7FE9480480B0>>"
      ]
     },
     "execution_count": 23,
     "metadata": {},
     "output_type": "execute_result"
    }
   ],
   "source": [
    "a.get_sublists"
   ]
  },
  {
   "cell_type": "code",
   "execution_count": null,
   "id": "ad05f9b7-8a29-4014-b82f-50e0ca1ce56e",
   "metadata": {},
   "outputs": [],
   "source": []
  },
  {
   "cell_type": "code",
   "execution_count": 17,
   "id": "e40e1cab-5139-4eb5-93c5-acaf2769b54e",
   "metadata": {},
   "outputs": [
    {
     "name": "stdout",
     "output_type": "stream",
     "text": [
      "0\n",
      "(\n",
      "        c1.ctcpty = lag(c1.ctcpty) over (partition by c1.cid, c1.cis, c1.dsc order by c1.mstts),\n",
      "        NULL, 'Y'\n",
      "    ) flag_wrt_begin_asc\n",
      "1\n",
      "if\n"
     ]
    }
   ],
   "source": [
    "for i,token in enumerate(a.get_identifiers()):\n",
    "    print(i)\n",
    "    print(token)\n",
    "    parser.process_identifier_select(token)"
   ]
  },
  {
   "cell_type": "code",
   "execution_count": 19,
   "id": "15f3b12c-a2e8-4369-abc8-0577f8b8c7e9",
   "metadata": {},
   "outputs": [
    {
     "data": {
      "text/plain": [
       "{'token': 'if',\n",
       " 'type': 'column',\n",
       " 'value': \"( c1.ctcpty = lag(c1.ctcpty) over (partition by c1.cid, c1.cis, c1.dsc order by c1.mstts), NULL, 'Y' ) flag_wrt_begin_asc ,if\"}"
      ]
     },
     "execution_count": 19,
     "metadata": {},
     "output_type": "execute_result"
    }
   ],
   "source": [
    "parser.process_identifierlist_if(a)"
   ]
  },
  {
   "cell_type": "code",
   "execution_count": 21,
   "id": "518bd72b-5c78-4fd3-a859-7b6ddce63b68",
   "metadata": {},
   "outputs": [],
   "source": [
    "value = parser.cleanup_string(a.value)"
   ]
  },
  {
   "cell_type": "code",
   "execution_count": 24,
   "id": "3fc09a6d-c594-43ac-b914-b5bcc92b9250",
   "metadata": {},
   "outputs": [
    {
     "data": {
      "text/plain": [
       "True"
      ]
     },
     "execution_count": 24,
     "metadata": {},
     "output_type": "execute_result"
    }
   ],
   "source": [
    "value.rstrip().lower().endswith((',if', ' if'))"
   ]
  },
  {
   "cell_type": "code",
   "execution_count": 25,
   "id": "9d5ce99a-3a12-4ea2-8a70-aa302fc02edc",
   "metadata": {},
   "outputs": [],
   "source": [
    "tmp = value.split(',')"
   ]
  },
  {
   "cell_type": "code",
   "execution_count": 29,
   "id": "b9965a9d-1c55-4f4b-9317-12457495e9dc",
   "metadata": {},
   "outputs": [],
   "source": [
    "first_half  = ','.join(tmp[:-1]).strip() # until last \"if\"\n",
    "second_half = tmp[-1].strip()    # this is \"if\""
   ]
  },
  {
   "cell_type": "code",
   "execution_count": 31,
   "id": "6c7dd8c3-fdfb-42c5-ab9b-d8075b4c9766",
   "metadata": {},
   "outputs": [
    {
     "data": {
      "text/plain": [
       "'if'"
      ]
     },
     "execution_count": 31,
     "metadata": {},
     "output_type": "execute_result"
    }
   ],
   "source": [
    "second_half"
   ]
  },
  {
   "cell_type": "code",
   "execution_count": 32,
   "id": "e51289ec-3c05-4bb8-8dfc-0d47b09d12b0",
   "metadata": {},
   "outputs": [
    {
     "data": {
      "text/plain": [
       "<IdentifierList '( ...' at 0x7FA7C0B2EEB0>"
      ]
     },
     "execution_count": 32,
     "metadata": {},
     "output_type": "execute_result"
    }
   ],
   "source": [
    "a"
   ]
  },
  {
   "cell_type": "code",
   "execution_count": null,
   "id": "67313d6c-5350-4202-8ca4-43587fe0e7e7",
   "metadata": {},
   "outputs": [],
   "source": []
  },
  {
   "cell_type": "code",
   "execution_count": null,
   "id": "008fb7f7-8103-4f1c-a212-87d79864066e",
   "metadata": {},
   "outputs": [],
   "source": []
  },
  {
   "cell_type": "code",
   "execution_count": null,
   "id": "6fb0cf7d-531b-4e16-a03b-3975125bfd48",
   "metadata": {},
   "outputs": [],
   "source": []
  },
  {
   "cell_type": "code",
   "execution_count": null,
   "id": "c57d8938-daea-4a08-8245-0dbff9f0fe63",
   "metadata": {},
   "outputs": [],
   "source": []
  },
  {
   "cell_type": "code",
   "execution_count": null,
   "id": "75a460b1-fc01-49bc-90ae-948ebf5c0ef3",
   "metadata": {},
   "outputs": [],
   "source": []
  },
  {
   "cell_type": "code",
   "execution_count": null,
   "id": "1c8f0829-2643-44d5-b174-9c755d57df43",
   "metadata": {},
   "outputs": [],
   "source": [
    "a.value"
   ]
  },
  {
   "cell_type": "code",
   "execution_count": null,
   "id": "8b532daa-fd4c-4559-9498-95919dc39c93",
   "metadata": {},
   "outputs": [],
   "source": [
    "token.tokens[-1]"
   ]
  },
  {
   "cell_type": "code",
   "execution_count": null,
   "id": "04fff5fa-408f-43cb-957e-03d081542142",
   "metadata": {},
   "outputs": [],
   "source": [
    "a = token.tokens[-1]"
   ]
  },
  {
   "cell_type": "code",
   "execution_count": null,
   "id": "bb4fc4ff-f109-44ef-8627-a860ea906780",
   "metadata": {},
   "outputs": [],
   "source": [
    "from sqlparse.tokens import Keyword"
   ]
  },
  {
   "cell_type": "code",
   "execution_count": null,
   "id": "b3d35480-b68b-41aa-8224-617451f3df03",
   "metadata": {},
   "outputs": [],
   "source": [
    "a.ttype is Keyword and a.value.lower() == 'if'"
   ]
  },
  {
   "cell_type": "code",
   "execution_count": null,
   "id": "bde87254-1bd7-4006-8657-4068507d88a7",
   "metadata": {},
   "outputs": [],
   "source": [
    "tmp = '(avere) aaavdvd ,if'\n",
    "\n",
    "tmp.split(',')"
   ]
  },
  {
   "cell_type": "code",
   "execution_count": null,
   "id": "3f6273a1-57e7-4969-a15c-67b1afafe498",
   "metadata": {},
   "outputs": [],
   "source": []
  }
 ],
 "metadata": {
  "kernelspec": {
   "display_name": "Python 3",
   "language": "python",
   "name": "python3"
  },
  "language_info": {
   "codemirror_mode": {
    "name": "ipython",
    "version": 3
   },
   "file_extension": ".py",
   "mimetype": "text/x-python",
   "name": "python",
   "nbconvert_exporter": "python",
   "pygments_lexer": "ipython3",
   "version": "3.8.8"
  }
 },
 "nbformat": 4,
 "nbformat_minor": 5
}
